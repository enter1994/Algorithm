{
 "cells": [
  {
   "cell_type": "code",
   "execution_count": 1,
   "metadata": {},
   "outputs": [
    {
     "name": "stdout",
     "output_type": "stream",
     "text": [
      "6\n"
     ]
    }
   ],
   "source": [
    "# Greedy\n",
    "\n",
    "n = int(input())\n",
    "\n",
    "cnt = 0\n",
    "li = [500, 100, 50, 10]\n",
    "\n",
    "for coin in li:\n",
    "    c = n // coin\n",
    "    cnt += c\n",
    "    n = n % coin\n",
    "\n",
    "    if n == 0:\n",
    "        break\n",
    "\n",
    "print(cnt)"
   ]
  },
  {
   "cell_type": "code",
   "execution_count": 3,
   "metadata": {},
   "outputs": [
    {
     "name": "stdout",
     "output_type": "stream",
     "text": [
      "46\n"
     ]
    }
   ],
   "source": [
    "# 큰 수의 법칙\n",
    "# 단순무식\n",
    "\n",
    "n, m, k = map(int, input().split())\n",
    "number = list(map(int, input().split()))\n",
    "\n",
    "number = sorted(number)\n",
    "max_1 = number[-1]\n",
    "max_2 = number[-2]\n",
    "\n",
    "num_sum = 0\n",
    "while True:\n",
    "    for i in range(k):\n",
    "        num_sum += max_1\n",
    "        m -= 1\n",
    "\n",
    "        if m == 0:\n",
    "            break\n",
    "    \n",
    "    num_sum += max_2\n",
    "    m -= 1\n",
    "\n",
    "    if m == 0:\n",
    "        break\n",
    "\n",
    "print(num_sum)"
   ]
  },
  {
   "cell_type": "code",
   "execution_count": 8,
   "metadata": {},
   "outputs": [
    {
     "name": "stdout",
     "output_type": "stream",
     "text": [
      "46\n"
     ]
    }
   ],
   "source": [
    "# 큰수의 법칙\n",
    "# 수식으로\n",
    "\n",
    "n, m, k = map(int, input().split())\n",
    "number = list(map(int, input().split()))\n",
    "\n",
    "number = sorted(number)\n",
    "max_1 = number[-1]\n",
    "max_2 = number[-2]\n",
    "\n",
    "result = (m//(k+1)) * k * max_1 + (m % (k+1)) * max_1\n",
    "result += (m//(k+1)) * max_2\n",
    "print(result)"
   ]
  },
  {
   "cell_type": "code",
   "execution_count": 13,
   "metadata": {},
   "outputs": [
    {
     "name": "stdout",
     "output_type": "stream",
     "text": [
      "3\n"
     ]
    }
   ],
   "source": [
    "# 숫자 카드 게임\n",
    "# min, max 사용하기\n",
    "\n",
    "a, b = map(int, input().split())\n",
    "\n",
    "result = list()\n",
    "\n",
    "for _ in range(a):\n",
    "    card = list(map(int, input().split()))\n",
    "    result.append(min(card))\n",
    "\n",
    "print(max(result))"
   ]
  },
  {
   "cell_type": "code",
   "execution_count": 17,
   "metadata": {},
   "outputs": [
    {
     "name": "stdout",
     "output_type": "stream",
     "text": [
      "3\n"
     ]
    }
   ],
   "source": [
    "# 숫자 카드게임\n",
    "# 이중 for문 사용하기\n",
    "\n",
    "a, b = map(int, input().split())\n",
    "\n",
    "li = list()\n",
    "\n",
    "for _ in range(a):\n",
    "    card = list(map(int, input().split()))\n",
    "    result = 10001\n",
    "\n",
    "    for num in card:    \n",
    "        if num < result:\n",
    "            result = num\n",
    "    \n",
    "    li.append(result)\n",
    "\n",
    "print(max(li))"
   ]
  },
  {
   "cell_type": "code",
   "execution_count": 33,
   "metadata": {},
   "outputs": [
    {
     "name": "stdout",
     "output_type": "stream",
     "text": [
      "6\n"
     ]
    }
   ],
   "source": [
    "# 1이 될때까지\n",
    "\n",
    "a, b = map(int, input().split())\n",
    "cnt = 0\n",
    "\n",
    "while True:\n",
    "    if a%b == 0:\n",
    "        a = a // b\n",
    "        cnt += 1\n",
    "\n",
    "    elif a%b != 0:\n",
    "        a -= 1\n",
    "        cnt += 1\n",
    "\n",
    "    if a == 1:\n",
    "        break\n",
    "\n",
    "print(cnt)"
   ]
  },
  {
   "cell_type": "code",
   "execution_count": null,
   "metadata": {},
   "outputs": [],
   "source": []
  },
  {
   "cell_type": "code",
   "execution_count": null,
   "metadata": {},
   "outputs": [],
   "source": []
  }
 ],
 "metadata": {
  "kernelspec": {
   "display_name": "Python 3.7.0 ('algo')",
   "language": "python",
   "name": "python3"
  },
  "language_info": {
   "codemirror_mode": {
    "name": "ipython",
    "version": 3
   },
   "file_extension": ".py",
   "mimetype": "text/x-python",
   "name": "python",
   "nbconvert_exporter": "python",
   "pygments_lexer": "ipython3",
   "version": "3.7.13"
  },
  "orig_nbformat": 4,
  "vscode": {
   "interpreter": {
    "hash": "8e9c511c7bcfae080af9ad47b1316242044d5250a473a085a3026bfeb4a2b42d"
   }
  }
 },
 "nbformat": 4,
 "nbformat_minor": 2
}
