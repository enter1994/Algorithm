{
 "cells": [
  {
   "cell_type": "code",
   "execution_count": 12,
   "metadata": {},
   "outputs": [
    {
     "name": "stdout",
     "output_type": "stream",
     "text": [
      "[0, 1, 2, 3, 4, 7, 5, 6, 8, 9]\n"
     ]
    }
   ],
   "source": [
    "# 선택정렬\n",
    "\n",
    "num = [7, 5, 9, 0, 3, 1, 6, 2, 4, 8]\n",
    "\n",
    "for i in range(len(num)):\n",
    "    min_num = num[i]\n",
    "    for j in range(i+1, len(num)):\n",
    "        if min_num > num[j]:\n",
    "            min_num = num[j]\n",
    "            min_idx = j\n",
    "    \n",
    "    num[i], num[min_idx] = num[min_idx], num[i]\n",
    "\n",
    "print(num)"
   ]
  },
  {
   "cell_type": "code",
   "execution_count": 20,
   "metadata": {},
   "outputs": [
    {
     "name": "stdout",
     "output_type": "stream",
     "text": [
      "[0, 1, 2, 3, 4, 5, 6, 7, 8, 9]\n"
     ]
    }
   ],
   "source": [
    "# 삽입 정렬\n",
    "\n",
    "num = [7, 5, 9, 0, 3, 1, 6, 2, 4, 8]\n",
    "\n",
    "for i in range(1, len(num)):\n",
    "    for j in range(i, 0, -1):\n",
    "        if num[j-1] > num[j]:\n",
    "            num[j], num[j-1] = num[j-1], num[j]\n",
    "\n",
    "        else:\n",
    "            break\n",
    "\n",
    "print(num)"
   ]
  },
  {
   "cell_type": "code",
   "execution_count": 153,
   "metadata": {},
   "outputs": [],
   "source": [
    "def quick_sort(num, start, end):\n",
    "    pivot = num[start]\n",
    "    length = end - start\n",
    "    big_idx = 0\n",
    "    small_idx = 0\n",
    "    right_idx = end - 1\n",
    "    \n",
    "    # print(start, end)\n",
    "    # if end - start == 0:\n",
    "    #     return\n",
    "    \n",
    "    for i in range(start+1, end):\n",
    "        if num[i] > pivot:\n",
    "            big_idx = i\n",
    "            \n",
    "            for j in range(right_idx, start, -1):\n",
    "                if pivot > num[j]:\n",
    "                    small_idx = j\n",
    "                    right_idx = j-1\n",
    "                    break\n",
    "\n",
    "        if big_idx < small_idx:\n",
    "            num[big_idx], num[small_idx] = num[small_idx], num[big_idx]\n",
    "\n",
    "        else:\n",
    "            num[start], num[small_idx] = num[small_idx], num[start]\n",
    "            \n",
    "    return num\n",
    "\n",
    "#     quick_sort(li, start, small_idx-1)\n",
    "#     quick_sort(li, small_idx+1, end)"
   ]
  },
  {
   "cell_type": "code",
   "execution_count": 9,
   "metadata": {},
   "outputs": [],
   "source": [
    "def quick_sort(num, start, end):\n",
    "    \n",
    "    if start >= end:\n",
    "        return\n",
    "    \n",
    "    pivot = start\n",
    "    \n",
    "    left = start + 1\n",
    "    right = end\n",
    "    \n",
    "    while left <= right:\n",
    "            \n",
    "        while left <= end:\n",
    "            \n",
    "            if num[pivot] <= num[left]: \n",
    "                break\n",
    "\n",
    "            left += 1\n",
    "                \n",
    "        while right > start:\n",
    "            \n",
    "            if num[pivot] >= num[right]:\n",
    "                break\n",
    "            \n",
    "            right -= 1\n",
    "            \n",
    "        if left <= right:\n",
    "            num[left], num[right] = num[right], num[left]\n",
    "            \n",
    "        else:\n",
    "            num[pivot], num[right] = num[right], num[pivot]\n",
    "            \n",
    "        quick_sort(num, start, right-1)\n",
    "        quick_sort(num, right+1, end)"
   ]
  },
  {
   "cell_type": "code",
   "execution_count": 12,
   "metadata": {},
   "outputs": [
    {
     "name": "stdout",
     "output_type": "stream",
     "text": [
      "[0, 1, 2, 3, 4, 5, 6, 7, 8, 9]\n"
     ]
    }
   ],
   "source": [
    "li = [7, 5, 9, 0, 3, 1, 6, 2, 4, 8]\n",
    "\n",
    "quick_sort(li, 0, len(li) - 1)\n",
    "print(li)"
   ]
  },
  {
   "cell_type": "code",
   "execution_count": 50,
   "metadata": {},
   "outputs": [
    {
     "name": "stdout",
     "output_type": "stream",
     "text": [
      "0 0 1 1 2 2 3 4 5 5 6 7 8 9 9 "
     ]
    }
   ],
   "source": [
    "# 계수정렬\n",
    "\n",
    "li = [7, 5, 9, 0, 3, 1, 6, 2, 9, 1, 4, 8, 0, 5, 2]\n",
    "idx = [0 for _ in range(10)]\n",
    "\n",
    "\n",
    "for i in range(len(li)):\n",
    "    idx[li[i]] += 1\n",
    "    \n",
    "for i in range(10):\n",
    "    for j in range(idx[i]):\n",
    "        print(i, end=' ')"
   ]
  },
  {
   "cell_type": "code",
   "execution_count": 52,
   "metadata": {},
   "outputs": [
    {
     "name": "stdin",
     "output_type": "stream",
     "text": [
      " 3\n",
      " 15\n",
      " 27\n",
      " 12\n"
     ]
    },
    {
     "name": "stdout",
     "output_type": "stream",
     "text": [
      "[27, 15, 12]\n"
     ]
    }
   ],
   "source": [
    "# 위에서 아래로\n",
    "n = int(input())\n",
    "\n",
    "num = []\n",
    "for _ in range(n):\n",
    "    num.append(int(input()))\n",
    "    \n",
    "print(sorted(num, reverse=True))"
   ]
  },
  {
   "cell_type": "code",
   "execution_count": 56,
   "metadata": {},
   "outputs": [
    {
     "name": "stdin",
     "output_type": "stream",
     "text": [
      " 2\n",
      " hong 95\n",
      " lee 77\n"
     ]
    },
    {
     "name": "stdout",
     "output_type": "stream",
     "text": [
      "lee hong "
     ]
    }
   ],
   "source": [
    "# 성적이 낮은 순서로 학생 출력하기\n",
    "n = int(input())\n",
    "li = []\n",
    "\n",
    "for i in range(n):\n",
    "    input_ = input().split()\n",
    "    \n",
    "    li.append((int(input_[1]), str(input_[0])))\n",
    "\n",
    "result = sorted(li)\n",
    "\n",
    "for tup in result:\n",
    "    print(tup[1], end=' ')"
   ]
  },
  {
   "cell_type": "code",
   "execution_count": 61,
   "metadata": {},
   "outputs": [
    {
     "name": "stdin",
     "output_type": "stream",
     "text": [
      " 5 3\n",
      " 1 2 5 4 3\n",
      " 5 5 6 6 5\n"
     ]
    },
    {
     "name": "stdout",
     "output_type": "stream",
     "text": [
      "26\n"
     ]
    }
   ],
   "source": [
    "# 두 배열의 원소 교체\n",
    "m, n = map(int, input().split())\n",
    "\n",
    "first = list(map(int, input().split()))\n",
    "sec = list(map(int, input().split()))\n",
    "\n",
    "first = sorted(first)\n",
    "sec = sorted(sec, reverse=True)\n",
    "\n",
    "for i in range(n):\n",
    "    if first[i] < sec[i]:\n",
    "        first[i], sec[i] = sec[i], first[i]\n",
    "        \n",
    "print(sum(first))"
   ]
  },
  {
   "cell_type": "markdown",
   "metadata": {},
   "source": [
    "# Dictionary practice"
   ]
  },
  {
   "cell_type": "code",
   "execution_count": 35,
   "metadata": {},
   "outputs": [
    {
     "name": "stdout",
     "output_type": "stream",
     "text": [
      "defaultdict(<class 'list'>, {'A': [2, 3], 'B': [4], 'C': [5]})\n"
     ]
    }
   ],
   "source": [
    "from collections import defaultdict\n",
    "\n",
    "dic = defaultdict(list)\n",
    "dic['A'].append(2)\n",
    "dic['A'].append(3)\n",
    "dic['B'].append(4)\n",
    "dic['C'].append(5)\n",
    "\n",
    "print(dic)"
   ]
  },
  {
   "cell_type": "code",
   "execution_count": null,
   "metadata": {},
   "outputs": [],
   "source": []
  }
 ],
 "metadata": {
  "kernelspec": {
   "display_name": "torch",
   "language": "python",
   "name": "torch"
  },
  "language_info": {
   "codemirror_mode": {
    "name": "ipython",
    "version": 3
   },
   "file_extension": ".py",
   "mimetype": "text/x-python",
   "name": "python",
   "nbconvert_exporter": "python",
   "pygments_lexer": "ipython3",
   "version": "3.8.0"
  },
  "vscode": {
   "interpreter": {
    "hash": "8e9c511c7bcfae080af9ad47b1316242044d5250a473a085a3026bfeb4a2b42d"
   }
  }
 },
 "nbformat": 4,
 "nbformat_minor": 4
}
