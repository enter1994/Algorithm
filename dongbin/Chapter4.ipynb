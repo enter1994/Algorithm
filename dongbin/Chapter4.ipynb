{
 "cells": [
  {
   "cell_type": "code",
   "execution_count": 8,
   "metadata": {},
   "outputs": [
    {
     "name": "stdout",
     "output_type": "stream",
     "text": [
      "3 4\n"
     ]
    }
   ],
   "source": [
    "# 상하좌우\n",
    "\n",
    "n = int(input())\n",
    "move = list(map(str, input().split()))\n",
    "\n",
    "start = [1, 1]\n",
    "\n",
    "for m in move:\n",
    "    if m == 'L':\n",
    "        if start[1] == 1:\n",
    "            continue\n",
    "\n",
    "        start[1] -= 1\n",
    "\n",
    "    if m == 'R':\n",
    "        if start[1] == n:\n",
    "            continue\n",
    "        \n",
    "        start[1] += 1\n",
    "\n",
    "    if m == 'U':\n",
    "        if start[0] == 1:\n",
    "            continue\n",
    "\n",
    "        start[0] -= 1\n",
    "\n",
    "    if m == 'D':\n",
    "        if start[0] == n:\n",
    "            continue\n",
    "\n",
    "        start[0] += 1\n",
    "\n",
    "\n",
    "print(start[0], start[1])"
   ]
  },
  {
   "cell_type": "code",
   "execution_count": 9,
   "metadata": {},
   "outputs": [
    {
     "name": "stdout",
     "output_type": "stream",
     "text": [
      "11475\n"
     ]
    }
   ],
   "source": [
    "# 시각\n",
    "\n",
    "n = int(input())\n",
    "cnt = 0\n",
    "\n",
    "for i in range(n+1):\n",
    "    for j in range(60):\n",
    "        for k in range(60):\n",
    "            if '3' in str(i) + str(j) + str(k):\n",
    "                cnt += 1\n",
    "\n",
    "print(cnt)"
   ]
  },
  {
   "cell_type": "code",
   "execution_count": 29,
   "metadata": {},
   "outputs": [
    {
     "name": "stdout",
     "output_type": "stream",
     "text": [
      "2\n"
     ]
    }
   ],
   "source": [
    "# 왕실의 나이트\n",
    "\n",
    "location = str(input())\n",
    "strtoint = ord(location[0]) - 96\n",
    "\n",
    "cnt = 0\n",
    "move = [[-2, 1], [-2, -1], [-1, -2], [1, -2], [2, 1], [2, -1], [1, 2], [-1, 2]]\n",
    "\n",
    "for m in move:\n",
    "    start = [int(strtoint), int(location[1])]\n",
    "\n",
    "    start[0] += m[0]\n",
    "    start[1] += m[1]\n",
    "\n",
    "    if 0 < start[0] < 9 and 0 < start[1] < 9:\n",
    "        cnt += 1\n",
    "\n",
    "print(cnt)\n",
    "\n",
    "\n"
   ]
  },
  {
   "cell_type": "code",
   "execution_count": 85,
   "metadata": {},
   "outputs": [
    {
     "name": "stdout",
     "output_type": "stream",
     "text": [
      " 4 4\n",
      " 1 1 0\n",
      " 1 1 1 1\n",
      " 1 0 0 1\n",
      " 1 1 0 1\n",
      " 1 1 1 1\n"
     ]
    },
    {
     "name": "stdout",
     "output_type": "stream",
     "text": [
      "3\n"
     ]
    }
   ],
   "source": [
    "# 게임 개발\n",
    "\n",
    "a, b = map(int, input().split())\n",
    "x, y, d = map(int, input().split())\n",
    "m = []\n",
    "\n",
    "for i in range(a):\n",
    "    m.append(list(map(int, input().split())))\n",
    "\n",
    "move = [\n",
    "    [-1, 0],\n",
    "    [0, 1],\n",
    "    [1, 0],\n",
    "    [0, -1]\n",
    "]\n",
    "cnt = 0\n",
    "t = 0\n",
    "\n",
    "while True:\n",
    "    d -= 1\n",
    "    if d == -1:\n",
    "        d = 3\n",
    "    \n",
    "    if m[x+move[d][0]][y+move[d][1]] == 0:\n",
    "        m[x][y] = 2\n",
    "        x += move[d][0]\n",
    "        y += move[d][1]\n",
    "        cnt += 1\n",
    "        t = 0\n",
    "        \n",
    "    else:\n",
    "        t += 1\n",
    "        \n",
    "    if t == 4:\n",
    "        m[x][y] = 2\n",
    "        x -= move[d][0]\n",
    "        y -= move[d][1]\n",
    "        t = 0\n",
    "        \n",
    "        if m[x][y] == 2:\n",
    "            cnt += 1\n",
    "            continue\n",
    "            \n",
    "        else:\n",
    "            break\n",
    "        \n",
    "print(cnt)"
   ]
  },
  {
   "cell_type": "code",
   "execution_count": null,
   "metadata": {},
   "outputs": [],
   "source": []
  }
 ],
 "metadata": {
  "kernelspec": {
   "display_name": "Python 3 (ipykernel)",
   "language": "python",
   "name": "python3"
  },
  "language_info": {
   "codemirror_mode": {
    "name": "ipython",
    "version": 3
   },
   "file_extension": ".py",
   "mimetype": "text/x-python",
   "name": "python",
   "nbconvert_exporter": "python",
   "pygments_lexer": "ipython3",
   "version": "3.7.13"
  },
  "vscode": {
   "interpreter": {
    "hash": "8e9c511c7bcfae080af9ad47b1316242044d5250a473a085a3026bfeb4a2b42d"
   }
  }
 },
 "nbformat": 4,
 "nbformat_minor": 4
}
