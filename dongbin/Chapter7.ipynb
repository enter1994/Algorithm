{
 "cells": [
  {
   "cell_type": "code",
   "execution_count": 1,
   "id": "260d8457-627b-48a8-987d-5ee11a9de376",
   "metadata": {},
   "outputs": [
    {
     "name": "stdout",
     "output_type": "stream",
     "text": [
      "4\n"
     ]
    }
   ],
   "source": [
    "# 순차 탐색\n",
    "def sequential_search(li, target):\n",
    "    for i in range(len(li)):\n",
    "        if li[i] == target:\n",
    "            return i + 1\n",
    "        \n",
    "data = list(input().split())\n",
    "target = data[3]\n",
    "\n",
    "print(sequential_search(data, target))"
   ]
  },
  {
   "cell_type": "code",
   "execution_count": 2,
   "id": "ac2539ea-fa21-4b8a-9bee-037bbcaaa36a",
   "metadata": {},
   "outputs": [],
   "source": [
    "# 이진 탐색(재귀함수)\n",
    "def binary_search(li, target, start, end):\n",
    "    \n",
    "    if start > end:\n",
    "        return None\n",
    "    \n",
    "    idx_m = (start + end) // 2\n",
    "    \n",
    "    if li[idx_m] > target:\n",
    "        return binary_search(li, target, start, idx_m-1)\n",
    "    \n",
    "    elif li[idx_m] < target:\n",
    "        return binary_search(li, target, idx_m+1, end)\n",
    "    \n",
    "    elif li[idx_m] == target:\n",
    "        return idx_m"
   ]
  },
  {
   "cell_type": "code",
   "execution_count": 3,
   "id": "e88eb9f5-77da-411b-bb8c-90bdcad36f77",
   "metadata": {},
   "outputs": [
    {
     "data": {
      "text/plain": [
       "1"
      ]
     },
     "execution_count": 3,
     "metadata": {},
     "output_type": "execute_result"
    }
   ],
   "source": [
    "l = list(map(int, input().split()))\n",
    "t = int(input())\n",
    "\n",
    "binary_search(l, t, 0, len(l))"
   ]
  },
  {
   "cell_type": "code",
   "execution_count": 4,
   "id": "dbfee183-d45f-4844-9e62-c1abe7d8e024",
   "metadata": {},
   "outputs": [],
   "source": [
    "# 이진 탐색(for문)\n",
    "\n",
    "def binary_search(li, target, start, end):\n",
    "    \n",
    "    while True:\n",
    "        if start > end:\n",
    "            return None\n",
    "            \n",
    "        idx_m = (start + end) // 2\n",
    "\n",
    "        if li[idx_m] > target:\n",
    "            end = idx_m - 1\n",
    "            \n",
    "        elif li[idx_m] < target:\n",
    "            start = idx_m + 1\n",
    "            \n",
    "        elif li[idx_m] == target:\n",
    "            return idx_m"
   ]
  },
  {
   "cell_type": "code",
   "execution_count": 5,
   "id": "a3e472a3-9dba-459e-a969-eff954f30534",
   "metadata": {},
   "outputs": [
    {
     "data": {
      "text/plain": [
       "1"
      ]
     },
     "execution_count": 5,
     "metadata": {},
     "output_type": "execute_result"
    }
   ],
   "source": [
    "l = list(map(int, input().split()))\n",
    "t = int(input())\n",
    "\n",
    "binary_search(l, t, 0, len(l))"
   ]
  },
  {
   "cell_type": "code",
   "execution_count": 9,
   "id": "31697d07",
   "metadata": {},
   "outputs": [],
   "source": [
    "import sys\n",
    "\n",
    "input_data = sys.stdin.readline().rstrip()"
   ]
  },
  {
   "cell_type": "code",
   "execution_count": 8,
   "id": "37788c1f",
   "metadata": {},
   "outputs": [
    {
     "name": "stdout",
     "output_type": "stream",
     "text": [
      "\n"
     ]
    }
   ],
   "source": [
    "print(input_data)"
   ]
  },
  {
   "cell_type": "markdown",
   "id": "564be945",
   "metadata": {},
   "source": [
    "부품 찾기 (이진탐색)"
   ]
  },
  {
   "cell_type": "code",
   "execution_count": 10,
   "id": "9b805349",
   "metadata": {},
   "outputs": [],
   "source": [
    "def binary_search(li, target, start, end):\n",
    "    if start > end:\n",
    "        return None\n",
    "\n",
    "    idx_m = (start + end) // 2\n",
    "\n",
    "    if li[idx_m] > target:\n",
    "        return binary_search(li, target, start, idx_m-1)\n",
    "\n",
    "    elif li[idx_m] < target:\n",
    "        return binary_search(li, target, idx_m+1, end)\n",
    "\n",
    "    elif li[idx_m] == target:\n",
    "        return idx_m"
   ]
  },
  {
   "cell_type": "code",
   "execution_count": 15,
   "id": "9e3dcbd3",
   "metadata": {},
   "outputs": [
    {
     "name": "stdout",
     "output_type": "stream",
     "text": [
      "no\n",
      "yes\n",
      "yes\n"
     ]
    }
   ],
   "source": [
    "m = int(input())\n",
    "a = list(map(int, input().split()))\n",
    "\n",
    "n = int(input())\n",
    "b = list(map(int, input().split()))\n",
    "\n",
    "a = sorted(a)\n",
    "\n",
    "for num in b:\n",
    "    if binary_search(a, num, 0, len(a)) != None:\n",
    "        print('yes')\n",
    "\n",
    "    elif binary_search(a, num, 0, len(a)) == None:\n",
    "        print('no')\n"
   ]
  },
  {
   "cell_type": "markdown",
   "id": "9bd99e7d",
   "metadata": {},
   "source": [
    "부품 찾기(계수 정렬)"
   ]
  },
  {
   "cell_type": "code",
   "execution_count": 16,
   "id": "87000eec",
   "metadata": {},
   "outputs": [
    {
     "name": "stdout",
     "output_type": "stream",
     "text": [
      "no\n",
      "yes\n",
      "yes\n"
     ]
    }
   ],
   "source": [
    "m = int(input())\n",
    "a = list(map(int, input().split()))\n",
    "\n",
    "n = int(input())\n",
    "b = list(map(int, input().split()))\n",
    "\n",
    "li = [0] * 1000001\n",
    "\n",
    "for i in a:\n",
    "    li[i] = 1\n",
    "\n",
    "for i in b:\n",
    "    if li[i] == 1:\n",
    "        print('yes')\n",
    "\n",
    "    elif li[i] == 0:\n",
    "        print('no')"
   ]
  },
  {
   "cell_type": "code",
   "execution_count": 22,
   "id": "0bfac207",
   "metadata": {},
   "outputs": [
    {
     "name": "stdout",
     "output_type": "stream",
     "text": [
      "no\n",
      "yes\n",
      "yes\n"
     ]
    }
   ],
   "source": [
    "m = int(input())\n",
    "a = set(map(int, input().split()))\n",
    "\n",
    "n = int(input())\n",
    "b = list(map(int, input().split()))\n",
    "\n",
    "for i in b:\n",
    "    if i in a:\n",
    "        print('yes')\n",
    "\n",
    "    elif i not in a:\n",
    "        print('no')"
   ]
  },
  {
   "cell_type": "markdown",
   "id": "19ed1b9a",
   "metadata": {},
   "source": [
    "떡볶이 떡 만들기"
   ]
  },
  {
   "cell_type": "code",
   "execution_count": 23,
   "id": "24e185ff",
   "metadata": {},
   "outputs": [],
   "source": [
    "def cutting_cake(num_list, target, start, end):\n",
    "\n",
    "    m = (start + end) // 2\n",
    "    cut = 0\n",
    "    \n",
    "    if start > end:\n",
    "        return m\n",
    "\n",
    "    for num in num_list:\n",
    "        if num > m:\n",
    "            cut += (num - m)\n",
    "\n",
    "\n",
    "    if cut > target:\n",
    "        return cutting_cake(num_list, target, m+1 ,end)\n",
    "\n",
    "    elif cut < target:\n",
    "        return cutting_cake(num_list, target, start, m-1)\n",
    "\n",
    "    elif cut == target:\n",
    "        return m"
   ]
  },
  {
   "cell_type": "code",
   "execution_count": 24,
   "id": "6e20fbf6",
   "metadata": {},
   "outputs": [
    {
     "data": {
      "text/plain": [
       "15"
      ]
     },
     "execution_count": 24,
     "metadata": {},
     "output_type": "execute_result"
    }
   ],
   "source": [
    "n, target = map(int, input().split())\n",
    "li = list(map(int, input().split()))\n",
    "\n",
    "cutting_cake(li, target, 0, max(li))"
   ]
  },
  {
   "cell_type": "code",
   "execution_count": null,
   "id": "06256c3c",
   "metadata": {},
   "outputs": [],
   "source": []
  }
 ],
 "metadata": {
  "kernelspec": {
   "display_name": "Python 3 (ipykernel)",
   "language": "python",
   "name": "python3"
  },
  "language_info": {
   "codemirror_mode": {
    "name": "ipython",
    "version": 3
   },
   "file_extension": ".py",
   "mimetype": "text/x-python",
   "name": "python",
   "nbconvert_exporter": "python",
   "pygments_lexer": "ipython3",
   "version": "3.8.13"
  },
  "vscode": {
   "interpreter": {
    "hash": "2a0c18add0ba59120069e9d5e7c400731989761056c0b3cdd250951c4bbd3633"
   }
  }
 },
 "nbformat": 4,
 "nbformat_minor": 5
}
