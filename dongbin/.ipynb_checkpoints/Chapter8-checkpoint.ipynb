{
 "cells": [
  {
   "cell_type": "code",
   "execution_count": 20,
   "metadata": {},
   "outputs": [],
   "source": [
    "# 피보나치수열 (dynamic programming)\n",
    "# 재귀\n",
    "d = [0] * 100\n",
    "\n",
    "def fibo(x):\n",
    "    if x == 1 or x == 2:\n",
    "        return 1\n",
    "\n",
    "    if d[x] != 0:\n",
    "        return d[x]\n",
    "\n",
    "    d[x] = fibo(x-1) + fibo(x-2)\n",
    "    \n",
    "    return d[x]"
   ]
  },
  {
   "cell_type": "code",
   "execution_count": 26,
   "metadata": {},
   "outputs": [
    {
     "name": "stdout",
     "output_type": "stream",
     "text": [
      "218922995834555169026\n"
     ]
    }
   ],
   "source": [
    "print(fibo(99))"
   ]
  },
  {
   "cell_type": "code",
   "execution_count": 11,
   "metadata": {},
   "outputs": [
    {
     "name": "stdout",
     "output_type": "stream",
     "text": [
      "55\n"
     ]
    }
   ],
   "source": [
    "def fibo(x):\n",
    "    if x == 1 or x == 2:\n",
    "        return 1\n",
    "    return fibo(x-1) + fibo(x-2)\n",
    "\n",
    "print(fibo(10))"
   ]
  },
  {
   "cell_type": "code",
   "execution_count": 28,
   "metadata": {},
   "outputs": [
    {
     "name": "stdout",
     "output_type": "stream",
     "text": [
      "218922995834555169026\n"
     ]
    }
   ],
   "source": [
    "# 피보나치 수열(dynamic programming)\n",
    "# for문\n",
    "d = [0] * 100\n",
    "d[1] = 1\n",
    "d[2] = 1\n",
    "n = 99\n",
    "\n",
    "for i in range(3, n+1):\n",
    "    d[i] = d[i-1] + d[i-2]\n",
    "\n",
    "print(d[n])"
   ]
  },
  {
   "cell_type": "code",
   "execution_count": 42,
   "metadata": {},
   "outputs": [
    {
     "name": "stdout",
     "output_type": "stream",
     "text": [
      "3\n"
     ]
    }
   ],
   "source": [
    "n = 26\n",
    "d = [0] * 300000\n",
    "\n",
    "for i in range(2, n+1):\n",
    "    li = []\n",
    "\n",
    "    # -1 할때\n",
    "    li.append(d[i-1] + 1)\n",
    "\n",
    "    # 2로 나누어 떨어질때\n",
    "    if i % 2 == 0:\n",
    "        li.append(d[i//2] + 1)\n",
    "\n",
    "    if i % 3 == 0:\n",
    "        li.append(d[i//3] + 1)\n",
    "\n",
    "    if i % 5 == 0:\n",
    "        li.append(d[i//5] + 1)\n",
    "\n",
    "    d[i] = min(li)\n",
    "\n",
    "print(d[n])"
   ]
  },
  {
   "cell_type": "code",
   "execution_count": 16,
   "metadata": {},
   "outputs": [
    {
     "name": "stdout",
     "output_type": "stream",
     "text": [
      "8\n"
     ]
    }
   ],
   "source": [
    "n = 4\n",
    "s = [1, 3, 1, 5]\n",
    "d = [0] * 30000\n",
    "d[0] = s[0]\n",
    "d[1] = max(s[0], s[1])\n",
    "\n",
    "for i in range(2, n):\n",
    "    d[i] = max(d[i-1], d[i-2] + s[i])\n",
    "\n",
    "print(d[n-1])"
   ]
  },
  {
   "cell_type": "code",
   "execution_count": 19,
   "metadata": {},
   "outputs": [
    {
     "name": "stdout",
     "output_type": "stream",
     "text": [
      "21\n"
     ]
    }
   ],
   "source": [
    "n = 5\n",
    "d = [0] * 1000\n",
    "d[0] = 1\n",
    "d[1] = 3\n",
    "\n",
    "for i in range(2, n):\n",
    "    d[i] = d[i-1] + d[i-2] * 2\n",
    "\n",
    "print(d[n-1])"
   ]
  },
  {
   "cell_type": "code",
   "execution_count": 41,
   "metadata": {},
   "outputs": [
    {
     "name": "stdout",
     "output_type": "stream",
     "text": [
      "-1\n"
     ]
    }
   ],
   "source": [
    "m, n = map(int, input().split())\n",
    "coin = []\n",
    "\n",
    "for i in range(m):\n",
    "    coin.append(int(input()))\n",
    "\n",
    "d = [0] * 10000\n",
    "\n",
    "for c in coin:\n",
    "    d[c] = 1\n",
    "\n",
    "for num in range(coin[0], n+1):\n",
    "    li = []\n",
    "    for c in coin:\n",
    "        if d[num-c] != 0:\n",
    "            li.append(d[num-c]+1)\n",
    "    \n",
    "    if len(li) > 0:\n",
    "        d[num] = min(li)\n",
    "\n",
    "if d[n] == 0:\n",
    "    print(-1)\n",
    "\n",
    "else:\n",
    "    print(d[n])"
   ]
  },
  {
   "cell_type": "code",
   "execution_count": null,
   "metadata": {},
   "outputs": [],
   "source": []
  },
  {
   "cell_type": "code",
   "execution_count": null,
   "metadata": {},
   "outputs": [],
   "source": []
  },
  {
   "cell_type": "code",
   "execution_count": null,
   "metadata": {},
   "outputs": [],
   "source": []
  },
  {
   "cell_type": "code",
   "execution_count": null,
   "metadata": {},
   "outputs": [],
   "source": []
  }
 ],
 "metadata": {
  "kernelspec": {
   "display_name": "Python 3.8.13 ('algo')",
   "language": "python",
   "name": "python3"
  },
  "language_info": {
   "codemirror_mode": {
    "name": "ipython",
    "version": 3
   },
   "file_extension": ".py",
   "mimetype": "text/x-python",
   "name": "python",
   "nbconvert_exporter": "python",
   "pygments_lexer": "ipython3",
   "version": "3.8.13"
  },
  "orig_nbformat": 4,
  "vscode": {
   "interpreter": {
    "hash": "2a0c18add0ba59120069e9d5e7c400731989761056c0b3cdd250951c4bbd3633"
   }
  }
 },
 "nbformat": 4,
 "nbformat_minor": 2
}
