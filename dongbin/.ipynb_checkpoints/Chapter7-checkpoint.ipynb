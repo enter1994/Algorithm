{
 "cells": [
  {
   "cell_type": "code",
   "execution_count": 3,
   "id": "260d8457-627b-48a8-987d-5ee11a9de376",
   "metadata": {},
   "outputs": [
    {
     "name": "stdin",
     "output_type": "stream",
     "text": [
      " haneul jonggu dongbin taeil sangwook\n"
     ]
    },
    {
     "name": "stdout",
     "output_type": "stream",
     "text": [
      "4\n"
     ]
    }
   ],
   "source": [
    "# 순차 탐색\n",
    "def sequential_search(li, target):\n",
    "    for i in range(len(li)):\n",
    "        if li[i] == target:\n",
    "            return i + 1\n",
    "        \n",
    "data = list(input().split())\n",
    "target = data[3]\n",
    "\n",
    "print(sequential_search(data, target))"
   ]
  },
  {
   "cell_type": "code",
   "execution_count": 7,
   "id": "ac2539ea-fa21-4b8a-9bee-037bbcaaa36a",
   "metadata": {},
   "outputs": [],
   "source": [
    "# 이진 탐색(재귀함수)\n",
    "def binary_search(li, target, start, end):\n",
    "    \n",
    "    if start > end:\n",
    "        return None\n",
    "    \n",
    "    idx_m = (start + end) // 2\n",
    "    \n",
    "    if li[idx_m] > target:\n",
    "        return binary_search(li, target, start, idx_m-1)\n",
    "    \n",
    "    elif li[idx_m] < target:\n",
    "        return binary_search(li, target, idx_m+1, end)\n",
    "    \n",
    "    elif li[idx_m] == target:\n",
    "        return idx_m"
   ]
  },
  {
   "cell_type": "code",
   "execution_count": 8,
   "id": "e88eb9f5-77da-411b-bb8c-90bdcad36f77",
   "metadata": {},
   "outputs": [
    {
     "name": "stdin",
     "output_type": "stream",
     "text": [
      " 1 3 5 7 9 11 13 15 17 19\n",
      " 13\n"
     ]
    },
    {
     "data": {
      "text/plain": [
       "6"
      ]
     },
     "execution_count": 8,
     "metadata": {},
     "output_type": "execute_result"
    }
   ],
   "source": [
    "l = list(map(int, input().split()))\n",
    "t = int(input())\n",
    "\n",
    "binary_search(l, t, 0, len(l))"
   ]
  },
  {
   "cell_type": "code",
   "execution_count": 9,
   "id": "dbfee183-d45f-4844-9e62-c1abe7d8e024",
   "metadata": {},
   "outputs": [],
   "source": [
    "# 이진 탐색(for문)\n",
    "\n",
    "def binary_search(li, target, start, end):\n",
    "    \n",
    "    while True:\n",
    "        if start > end:\n",
    "            return None\n",
    "            \n",
    "        idx_m = (start + end) // 2\n",
    "\n",
    "        if li[idx_m] > target:\n",
    "            end = idx_m - 1\n",
    "            \n",
    "        elif li[idx_m] < target:\n",
    "            start = idx_m + 1\n",
    "            \n",
    "        elif li[idx_m] == target:\n",
    "            return idx_m"
   ]
  },
  {
   "cell_type": "code",
   "execution_count": 10,
   "id": "a3e472a3-9dba-459e-a969-eff954f30534",
   "metadata": {},
   "outputs": [
    {
     "name": "stdin",
     "output_type": "stream",
     "text": [
      " 0 2 4 6 8 10 12 14 16 18\n",
      " 4\n"
     ]
    },
    {
     "data": {
      "text/plain": [
       "2"
      ]
     },
     "execution_count": 10,
     "metadata": {},
     "output_type": "execute_result"
    }
   ],
   "source": [
    "l = list(map(int, input().split()))\n",
    "t = int(input())\n",
    "\n",
    "binary_search(l, t, 0, len(l))"
   ]
  },
  {
   "cell_type": "code",
   "execution_count": null,
   "id": "9e596ab0-9b5b-41b4-a684-48199f8f8221",
   "metadata": {},
   "outputs": [],
   "source": []
  },
  {
   "cell_type": "code",
   "execution_count": null,
   "id": "8aa15200-512c-4923-8345-5f4fc1456376",
   "metadata": {},
   "outputs": [],
   "source": []
  },
  {
   "cell_type": "code",
   "execution_count": null,
   "id": "1b33f84f-3fe7-41d5-b046-19a4cf0145cf",
   "metadata": {},
   "outputs": [],
   "source": []
  },
  {
   "cell_type": "code",
   "execution_count": null,
   "id": "6c006576-c05d-4a75-809a-a05d671546b8",
   "metadata": {},
   "outputs": [],
   "source": []
  }
 ],
 "metadata": {
  "kernelspec": {
   "display_name": "Python 3 (ipykernel)",
   "language": "python",
   "name": "python3"
  },
  "language_info": {
   "codemirror_mode": {
    "name": "ipython",
    "version": 3
   },
   "file_extension": ".py",
   "mimetype": "text/x-python",
   "name": "python",
   "nbconvert_exporter": "python",
   "pygments_lexer": "ipython3",
   "version": "3.8.13"
  }
 },
 "nbformat": 4,
 "nbformat_minor": 5
}
