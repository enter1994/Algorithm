{
 "cells": [
  {
   "cell_type": "code",
   "execution_count": 4,
   "id": "87541571-9381-48a9-bf43-c694cc7f313f",
   "metadata": {},
   "outputs": [
    {
     "name": "stdin",
     "output_type": "stream",
     "text": [
      " 216\n"
     ]
    },
    {
     "name": "stdout",
     "output_type": "stream",
     "text": [
      "198\n"
     ]
    }
   ],
   "source": [
    "n = int(input())\n",
    "result = False\n",
    "value = 0\n",
    "\n",
    "for num in range(1, n+1):\n",
    "    t = num\n",
    "    for w in str(num):\n",
    "        t += int(w)\n",
    "    if t == n:\n",
    "        result = True\n",
    "        value = num\n",
    "        break\n",
    "        \n",
    "if result == True:\n",
    "    print(num)\n",
    "else:\n",
    "    print(0)"
   ]
  },
  {
   "cell_type": "code",
   "execution_count": null,
   "id": "81ac2288-ef7e-4727-94a3-80815d4d99fb",
   "metadata": {},
   "outputs": [],
   "source": []
  }
 ],
 "metadata": {
  "kernelspec": {
   "display_name": "Python 3 (ipykernel)",
   "language": "python",
   "name": "python3"
  },
  "language_info": {
   "codemirror_mode": {
    "name": "ipython",
    "version": 3
   },
   "file_extension": ".py",
   "mimetype": "text/x-python",
   "name": "python",
   "nbconvert_exporter": "python",
   "pygments_lexer": "ipython3",
   "version": "3.8.13"
  }
 },
 "nbformat": 4,
 "nbformat_minor": 5
}
