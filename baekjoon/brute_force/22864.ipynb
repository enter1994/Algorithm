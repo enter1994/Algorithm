{
 "cells": [
  {
   "cell_type": "code",
   "execution_count": 3,
   "id": "d296849c-bf62-4e23-9afb-cd62360f8fb1",
   "metadata": {},
   "outputs": [
    {
     "name": "stdin",
     "output_type": "stream",
     "text": [
      " 11 5 1 10\n"
     ]
    },
    {
     "name": "stdout",
     "output_type": "stream",
     "text": [
      "0\n"
     ]
    }
   ],
   "source": [
    "a, b, c, m = map(int,input().split())\n",
    "work = 0\n",
    "tired = 0\n",
    "\n",
    "for i in range(24):\n",
    "    if (tired + a) <= m:\n",
    "        work += b\n",
    "        tired += a\n",
    "    \n",
    "    elif (tired + a) > m:\n",
    "        tired -= c\n",
    "        \n",
    "    if tired < 0:\n",
    "        tired = 0\n",
    "        \n",
    "print(work)"
   ]
  },
  {
   "cell_type": "code",
   "execution_count": null,
   "id": "64f37fc6-8ac5-4008-b271-2aa555428202",
   "metadata": {},
   "outputs": [],
   "source": []
  }
 ],
 "metadata": {
  "kernelspec": {
   "display_name": "Python 3 (ipykernel)",
   "language": "python",
   "name": "python3"
  },
  "language_info": {
   "codemirror_mode": {
    "name": "ipython",
    "version": 3
   },
   "file_extension": ".py",
   "mimetype": "text/x-python",
   "name": "python",
   "nbconvert_exporter": "python",
   "pygments_lexer": "ipython3",
   "version": "3.8.13"
  }
 },
 "nbformat": 4,
 "nbformat_minor": 5
}
