{
 "cells": [
  {
   "cell_type": "code",
   "execution_count": 21,
   "id": "f48eb0fb-1137-4fbf-b44c-c09627ba4cfb",
   "metadata": {},
   "outputs": [
    {
     "name": "stdin",
     "output_type": "stream",
     "text": [
      " 1\n",
      " 3 10\n"
     ]
    },
    {
     "name": "stdout",
     "output_type": "stream",
     "text": [
      "7\n"
     ]
    }
   ],
   "source": [
    "from itertools import combinations\n",
    "\n",
    "n = int(input())\n",
    "li = list(list(map(int,input().split())) for _ in range(n))\n",
    "\n",
    "result = set()\n",
    "\n",
    "for i in range(1, n+1):\n",
    "    for num in combinations(li, i):\n",
    "        m = 1\n",
    "        s = 0\n",
    "        for a, b in num:\n",
    "            m *= a\n",
    "            s += b\n",
    "        \n",
    "        d = abs(m-s)\n",
    "        result.add(d)\n",
    "        \n",
    "print(min(result))"
   ]
  },
  {
   "cell_type": "code",
   "execution_count": null,
   "id": "5461e933-a074-46f9-9f0e-f4eb862c7a58",
   "metadata": {},
   "outputs": [],
   "source": []
  }
 ],
 "metadata": {
  "kernelspec": {
   "display_name": "Python 3 (ipykernel)",
   "language": "python",
   "name": "python3"
  },
  "language_info": {
   "codemirror_mode": {
    "name": "ipython",
    "version": 3
   },
   "file_extension": ".py",
   "mimetype": "text/x-python",
   "name": "python",
   "nbconvert_exporter": "python",
   "pygments_lexer": "ipython3",
   "version": "3.8.13"
  }
 },
 "nbformat": 4,
 "nbformat_minor": 5
}
