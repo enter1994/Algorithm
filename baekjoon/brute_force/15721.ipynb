{
 "cells": [
  {
   "cell_type": "code",
   "execution_count": 21,
   "id": "88ba5b41-847a-43fb-b2b9-3a79033f742b",
   "metadata": {},
   "outputs": [
    {
     "name": "stdin",
     "output_type": "stream",
     "text": [
      " 4\n",
      " 6\n",
      " 1\n"
     ]
    },
    {
     "name": "stdout",
     "output_type": "stream",
     "text": [
      "3\n"
     ]
    }
   ],
   "source": [
    "a = int(input())\n",
    "t = int(input())\n",
    "q = int(input())\n",
    "bon = 0\n",
    "degi = 0\n",
    "cnt = 0\n",
    "circle = 2\n",
    "\n",
    "li = []\n",
    "\n",
    "while True:\n",
    "    \n",
    "    for _ in range(2):\n",
    "        bon += 1\n",
    "        li.append((bon, 0))\n",
    "        \n",
    "        degi += 1\n",
    "        li.append((degi, 1))\n",
    "        \n",
    "        cnt += 1\n",
    "            \n",
    "    for _ in range(circle):\n",
    "        bon += 1\n",
    "        li.append((bon, 0))\n",
    "        \n",
    "    for _ in range(circle):\n",
    "        degi += 1\n",
    "        li.append((degi, 1))\n",
    "    \n",
    "    cnt += 1\n",
    "    circle += 1\n",
    "    \n",
    "    if cnt >= t:\n",
    "        break \n",
    "        \n",
    "print(li.index((t, q)) % a)"
   ]
  },
  {
   "cell_type": "code",
   "execution_count": null,
   "id": "a07d3e36-718d-4f0e-8b67-e1acc25bbe0f",
   "metadata": {},
   "outputs": [],
   "source": []
  }
 ],
 "metadata": {
  "kernelspec": {
   "display_name": "Python 3 (ipykernel)",
   "language": "python",
   "name": "python3"
  },
  "language_info": {
   "codemirror_mode": {
    "name": "ipython",
    "version": 3
   },
   "file_extension": ".py",
   "mimetype": "text/x-python",
   "name": "python",
   "nbconvert_exporter": "python",
   "pygments_lexer": "ipython3",
   "version": "3.8.13"
  }
 },
 "nbformat": 4,
 "nbformat_minor": 5
}
