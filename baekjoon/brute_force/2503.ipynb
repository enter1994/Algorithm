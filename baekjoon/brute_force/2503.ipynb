{
 "cells": [
  {
   "cell_type": "code",
   "execution_count": 25,
   "id": "2df571e3-a710-402d-918e-052a120a8672",
   "metadata": {},
   "outputs": [
    {
     "name": "stdin",
     "output_type": "stream",
     "text": [
      " 4\n",
      " 123 1 1\n",
      " 356 1 0\n",
      " 327 2 0\n",
      " 489 0 1\n"
     ]
    },
    {
     "name": "stdout",
     "output_type": "stream",
     "text": [
      "2\n"
     ]
    }
   ],
   "source": [
    "from itertools import permutations\n",
    "\n",
    "n = int(input())\n",
    "li = list(permutations(map(str, range(1, 10)), 3))\n",
    "\n",
    "for _ in range(n):\n",
    "    cnt = 0\n",
    "    target, strike, ball = map(int, input().split())\n",
    "    target = list(str(target))\n",
    "\n",
    "    for i in range(len(li)):\n",
    "        s_cnt = 0\n",
    "        b_cnt = 0\n",
    "        i -= cnt\n",
    "        \n",
    "        for j in range(3):\n",
    "            if li[i][j] == target[j]:\n",
    "                s_cnt += 1\n",
    "            \n",
    "            elif target[j] in li[i]:\n",
    "                b_cnt += 1\n",
    "                \n",
    "        if (s_cnt != strike) or (b_cnt != ball):\n",
    "            li.pop(i)\n",
    "            cnt += 1\n",
    "\n",
    "print(len(li))"
   ]
  },
  {
   "cell_type": "code",
   "execution_count": 23,
   "id": "fae0ff19-cd83-49d5-9371-8b52f392f9b8",
   "metadata": {},
   "outputs": [
    {
     "data": {
      "text/plain": [
       "['4', '5', '6']"
      ]
     },
     "execution_count": 23,
     "metadata": {},
     "output_type": "execute_result"
    }
   ],
   "source": [
    "target"
   ]
  },
  {
   "cell_type": "code",
   "execution_count": 22,
   "id": "a66c2536-9e05-4da7-94cc-13c02e219934",
   "metadata": {},
   "outputs": [
    {
     "data": {
      "text/plain": [
       "[('0', '7', '8'),\n",
       " ('0', '7', '9'),\n",
       " ('0', '8', '7'),\n",
       " ('0', '8', '9'),\n",
       " ('0', '9', '7'),\n",
       " ('0', '9', '8'),\n",
       " ('7', '0', '8'),\n",
       " ('7', '0', '9'),\n",
       " ('7', '8', '0'),\n",
       " ('7', '8', '9'),\n",
       " ('7', '9', '0'),\n",
       " ('7', '9', '8'),\n",
       " ('8', '0', '7'),\n",
       " ('8', '0', '9'),\n",
       " ('8', '7', '0'),\n",
       " ('8', '7', '9'),\n",
       " ('8', '9', '0'),\n",
       " ('8', '9', '7'),\n",
       " ('9', '0', '7'),\n",
       " ('9', '0', '8'),\n",
       " ('9', '7', '0'),\n",
       " ('9', '7', '8'),\n",
       " ('9', '8', '0'),\n",
       " ('9', '8', '7')]"
      ]
     },
     "execution_count": 22,
     "metadata": {},
     "output_type": "execute_result"
    }
   ],
   "source": [
    "li"
   ]
  },
  {
   "cell_type": "code",
   "execution_count": null,
   "id": "f618e60d-5916-420d-adc2-371df6bd8b3f",
   "metadata": {},
   "outputs": [],
   "source": []
  },
  {
   "cell_type": "code",
   "execution_count": null,
   "id": "74b4577f-5c57-4ceb-9ed3-81c6108b4b60",
   "metadata": {},
   "outputs": [],
   "source": []
  }
 ],
 "metadata": {
  "kernelspec": {
   "display_name": "Python 3 (ipykernel)",
   "language": "python",
   "name": "python3"
  },
  "language_info": {
   "codemirror_mode": {
    "name": "ipython",
    "version": 3
   },
   "file_extension": ".py",
   "mimetype": "text/x-python",
   "name": "python",
   "nbconvert_exporter": "python",
   "pygments_lexer": "ipython3",
   "version": "3.8.13"
  }
 },
 "nbformat": 4,
 "nbformat_minor": 5
}
