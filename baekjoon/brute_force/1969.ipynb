{
 "cells": [
  {
   "cell_type": "code",
   "execution_count": 45,
   "id": "7b583b8e-b366-4a15-aa8b-0bd41bbe4e7e",
   "metadata": {},
   "outputs": [
    {
     "name": "stdin",
     "output_type": "stream",
     "text": [
      " 5 8\n",
      " TATGATAC\n",
      " TAAGCTAC\n",
      " AAAGATCC\n",
      " TGAGATAC\n",
      " TAAGATGT\n"
     ]
    },
    {
     "name": "stdout",
     "output_type": "stream",
     "text": [
      "TAAGATAC\n",
      "7\n"
     ]
    }
   ],
   "source": [
    "m, n = map(int, input().split())\n",
    "li = list(str(input()) for _ in range(m))\n",
    "li = list(list(x) for x in zip(*li))\n",
    "\n",
    "cnt = 0\n",
    "result = []\n",
    "\n",
    "for w in li:\n",
    "    t, a, g, c = 0, 0, 0, 0\n",
    "    cur = []\n",
    "    \n",
    "    for l in w:\n",
    "        if l == 'T':\n",
    "            t += 1\n",
    "        elif l == 'A':\n",
    "            a += 1\n",
    "        elif l == 'G':\n",
    "            g += 1\n",
    "        elif l == 'C':\n",
    "            c += 1\n",
    "    \n",
    "    \n",
    "    cur.append((a, 'A'))\n",
    "    cur.append((c, 'C'))\n",
    "    cur.append((g, 'G'))\n",
    "    cur.append((t, 'T'))\n",
    "\n",
    "    target_num = cur[0]\n",
    "    \n",
    "    # 같은 개수면 사전적으로 앞에 알파벳이 앞에오게\n",
    "    for i in range(1, 4):\n",
    "        if cur[i][0] > target_num[0]:\n",
    "            target_num = cur[i]\n",
    "        elif cur[i][0] == target_num[0]:\n",
    "            target_num = min(cur[i], target_num)\n",
    "            \n",
    "    target = target_num\n",
    "\n",
    "    num = m - target[0]\n",
    "    cnt += num\n",
    "    result.append(target[1])\n",
    "    \n",
    "print(''.join(result))\n",
    "print(cnt)"
   ]
  },
  {
   "cell_type": "code",
   "execution_count": 41,
   "id": "53bc4f18-745f-4096-8b96-73822beaf808",
   "metadata": {},
   "outputs": [
    {
     "name": "stdout",
     "output_type": "stream",
     "text": [
      "TAAGATAC\n",
      "7\n"
     ]
    }
   ],
   "source": [
    "print(''.join(result))\n",
    "print(cnt)"
   ]
  },
  {
   "cell_type": "code",
   "execution_count": 36,
   "id": "765c6ef5-9d04-4d83-8d3f-60c518fbb4c8",
   "metadata": {},
   "outputs": [
    {
     "data": {
      "text/plain": [
       "[(1, 'A'), (1, 'C'), (1, 'G'), (1, 'T')]"
      ]
     },
     "execution_count": 36,
     "metadata": {},
     "output_type": "execute_result"
    }
   ],
   "source": [
    "cur"
   ]
  },
  {
   "cell_type": "code",
   "execution_count": 31,
   "id": "12d2aa3c-6d30-498a-8c04-0492ab5952db",
   "metadata": {},
   "outputs": [
    {
     "name": "stdout",
     "output_type": "stream",
     "text": [
      "TAAGATAC\n",
      "7\n"
     ]
    }
   ],
   "source": [
    "print(''.join(result))\n",
    "print(cnt)"
   ]
  },
  {
   "cell_type": "code",
   "execution_count": 6,
   "id": "3b504257-105e-4e69-ad8a-4c34944c6a68",
   "metadata": {},
   "outputs": [
    {
     "data": {
      "text/plain": [
       "[['T', 'T', 'A', 'T', 'T'],\n",
       " ['A', 'A', 'A', 'G', 'A'],\n",
       " ['T', 'A', 'A', 'A', 'A'],\n",
       " ['G', 'G', 'G', 'G', 'G'],\n",
       " ['A', 'C', 'A', 'A', 'A'],\n",
       " ['T', 'T', 'T', 'T', 'T'],\n",
       " ['A', 'A', 'C', 'A', 'G'],\n",
       " ['C', 'C', 'C', 'C', 'T']]"
      ]
     },
     "execution_count": 6,
     "metadata": {},
     "output_type": "execute_result"
    }
   ],
   "source": [
    "li"
   ]
  },
  {
   "cell_type": "code",
   "execution_count": 28,
   "id": "b6854c80-ba3a-4cc4-903f-1b8f5904b445",
   "metadata": {},
   "outputs": [
    {
     "ename": "NameError",
     "evalue": "name 'm' is not defined",
     "output_type": "error",
     "traceback": [
      "\u001b[0;31m---------------------------------------------------------------------------\u001b[0m",
      "\u001b[0;31mNameError\u001b[0m                                 Traceback (most recent call last)",
      "Input \u001b[0;32mIn [28]\u001b[0m, in \u001b[0;36m<cell line: 4>\u001b[0;34m()\u001b[0m\n\u001b[1;32m     22\u001b[0m cur\u001b[38;5;241m.\u001b[39mappend((c, \u001b[38;5;124m'\u001b[39m\u001b[38;5;124mC\u001b[39m\u001b[38;5;124m'\u001b[39m))\n\u001b[1;32m     24\u001b[0m target \u001b[38;5;241m=\u001b[39m \u001b[38;5;28mmax\u001b[39m(cur)\n\u001b[0;32m---> 25\u001b[0m num \u001b[38;5;241m=\u001b[39m \u001b[43mm\u001b[49m \u001b[38;5;241m-\u001b[39m target[\u001b[38;5;241m0\u001b[39m]\n\u001b[1;32m     26\u001b[0m result\u001b[38;5;241m.\u001b[39mappend(target[\u001b[38;5;241m1\u001b[39m])\n",
      "\u001b[0;31mNameError\u001b[0m: name 'm' is not defined"
     ]
    }
   ],
   "source": [
    "cnt = 0\n",
    "result = []\n",
    "\n",
    "for w in li:\n",
    "    t, a, g, c = 0, 0, 0, 0\n",
    "    cur = []\n",
    "    \n",
    "    for l in w:\n",
    "        if l == 'T':\n",
    "            t += 1\n",
    "        elif l == 'A':\n",
    "            a += 1\n",
    "        elif l == 'G':\n",
    "            g += 1\n",
    "        elif l == 'C':\n",
    "            c += 1\n",
    "    \n",
    "    \n",
    "    cur.append((t, 'T'))\n",
    "    cur.append((a, 'A'))\n",
    "    cur.append((g, 'G'))\n",
    "    cur.append((c, 'C'))\n",
    "    \n",
    "    target = max(cur)\n",
    "    num = m - target[0]\n",
    "    result.append(target[1])"
   ]
  },
  {
   "cell_type": "code",
   "execution_count": 26,
   "id": "5ef5c813-6552-4e72-81f3-b5e2878843c0",
   "metadata": {},
   "outputs": [
    {
     "data": {
      "text/plain": [
       "[(1, 'T'), (0, 'A'), (0, 'G'), (4, 'c')]"
      ]
     },
     "execution_count": 26,
     "metadata": {},
     "output_type": "execute_result"
    }
   ],
   "source": [
    "cur"
   ]
  },
  {
   "cell_type": "code",
   "execution_count": 27,
   "id": "755d6752-9d98-4303-ae6c-43145d31ae50",
   "metadata": {},
   "outputs": [
    {
     "data": {
      "text/plain": [
       "(4, 'c')"
      ]
     },
     "execution_count": 27,
     "metadata": {},
     "output_type": "execute_result"
    }
   ],
   "source": [
    "target"
   ]
  },
  {
   "cell_type": "code",
   "execution_count": 8,
   "id": "91e38242-3a46-45ae-92f7-6853d3e0a2b0",
   "metadata": {},
   "outputs": [
    {
     "name": "stdout",
     "output_type": "stream",
     "text": [
      "TGTGCTGT\n",
      "21\n"
     ]
    }
   ],
   "source": [
    "print(''.join(result))\n",
    "print(cnt)"
   ]
  },
  {
   "cell_type": "code",
   "execution_count": 9,
   "id": "96c55618-9997-4db6-bf34-9e8b0d1ef11c",
   "metadata": {},
   "outputs": [
    {
     "data": {
      "text/plain": [
       "'G'"
      ]
     },
     "execution_count": 9,
     "metadata": {},
     "output_type": "execute_result"
    }
   ],
   "source": [
    "max(['A', 'A', 'A', 'G', 'A'])"
   ]
  },
  {
   "cell_type": "code",
   "execution_count": null,
   "id": "514e9b25-e0dd-4958-905c-e5546031e929",
   "metadata": {},
   "outputs": [],
   "source": []
  }
 ],
 "metadata": {
  "kernelspec": {
   "display_name": "Python 3 (ipykernel)",
   "language": "python",
   "name": "python3"
  },
  "language_info": {
   "codemirror_mode": {
    "name": "ipython",
    "version": 3
   },
   "file_extension": ".py",
   "mimetype": "text/x-python",
   "name": "python",
   "nbconvert_exporter": "python",
   "pygments_lexer": "ipython3",
   "version": "3.8.13"
  }
 },
 "nbformat": 4,
 "nbformat_minor": 5
}
