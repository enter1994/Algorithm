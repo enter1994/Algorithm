{
 "cells": [
  {
   "cell_type": "code",
   "execution_count": 16,
   "id": "9e6e1e39-151c-49f0-89dd-083ca0f621cc",
   "metadata": {},
   "outputs": [
    {
     "name": "stdin",
     "output_type": "stream",
     "text": [
      " 4 6\n",
      " 1 2 3 4 5 6\n",
      " 6 5 4 3 2 1\n",
      " 3 2 7 9 2 5\n",
      " 4 5 6 3 2 1\n"
     ]
    },
    {
     "name": "stdout",
     "output_type": "stream",
     "text": [
      "25\n"
     ]
    }
   ],
   "source": [
    "from itertools import combinations\n",
    "\n",
    "n, m = map(int, input().split())\n",
    "li = []\n",
    "result = 0\n",
    "\n",
    "for _ in range(n):\n",
    "    li.append(list(map(int, input().split())))\n",
    "\n",
    "for p1, p2, p3 in list(combinations(range(m), 3)):\n",
    "    cnt = 0\n",
    "    for i in range(n):\n",
    "        num = max(li[i][p1], li[i][p2], li[i][p3])\n",
    "        cnt += num\n",
    "    \n",
    "    if cnt > result:\n",
    "        result = cnt\n",
    "    \n",
    "print(result)"
   ]
  },
  {
   "cell_type": "code",
   "execution_count": null,
   "id": "04ed5852-069d-45f0-8ec5-fde0e403e391",
   "metadata": {},
   "outputs": [],
   "source": []
  }
 ],
 "metadata": {
  "kernelspec": {
   "display_name": "Python 3 (ipykernel)",
   "language": "python",
   "name": "python3"
  },
  "language_info": {
   "codemirror_mode": {
    "name": "ipython",
    "version": 3
   },
   "file_extension": ".py",
   "mimetype": "text/x-python",
   "name": "python",
   "nbconvert_exporter": "python",
   "pygments_lexer": "ipython3",
   "version": "3.8.13"
  }
 },
 "nbformat": 4,
 "nbformat_minor": 5
}
