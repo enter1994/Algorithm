{
 "cells": [
  {
   "cell_type": "code",
   "execution_count": 41,
   "id": "47c8473f-3e30-42fa-b007-6af80f0f788a",
   "metadata": {},
   "outputs": [
    {
     "name": "stdin",
     "output_type": "stream",
     "text": [
      " 2 2\n",
      " 2\n",
      " 1 2\n",
      " 2 1\n"
     ]
    },
    {
     "name": "stdout",
     "output_type": "stream",
     "text": [
      "4\n"
     ]
    }
   ],
   "source": [
    "paper = list(map(int, input().split()))\n",
    "n = int(input())\n",
    "stick = [list(map(int, input().split())) for _ in range(n)]\n",
    "result = 0\n",
    "\n",
    "for i in range(n):\n",
    "    max_p, min_p = max(paper[0], paper[1]), min(paper[0], paper[1])\n",
    "    \n",
    "    for j in range(i+1, n):\n",
    "        w1, h1 = stick[i][0], stick[i][1]\n",
    "        w2, h2 = stick[j][0], stick[j][1]\n",
    "        \n",
    "        if (max(w1, w2) <= max_p and h1 + h2 <= min_p) or (w1 + w2 <= max_p and max(h1, h2) <= min_p):\n",
    "            target = w1*h1 + w2*h2\n",
    "            result = max(result, target)\n",
    "            \n",
    "        elif (max(w1, h2) <= max_p and h1 + w2 <= min_p) or (w1 + h2 <= max_p and max(h1, w2) <= min_p):\n",
    "            target = w1*h1 + w2*h2\n",
    "            result = max(result, target)\n",
    "        \n",
    "        elif (max(h1, w2) <= max_p and w1 + h2 <= min_p) or (h1 + w2 <= max_p and max(w1, h2) <= min_p):\n",
    "            target = w1*h1 + w2*h2\n",
    "            result = max(result, target)\n",
    "            \n",
    "        elif (max(h1, h2) <= max_p and w1 + w2 <= min_p) or (h1 + h2 <= max_p and max(w1, w2) <= min_p):\n",
    "            target = w1*h1 + w2*h2\n",
    "            result = max(result, target)\n",
    "        \n",
    "print(result)"
   ]
  },
  {
   "cell_type": "code",
   "execution_count": null,
   "id": "457632a4-0a5c-4ad5-94c5-7cba9f37ffcd",
   "metadata": {},
   "outputs": [],
   "source": []
  }
 ],
 "metadata": {
  "kernelspec": {
   "display_name": "Python 3 (ipykernel)",
   "language": "python",
   "name": "python3"
  },
  "language_info": {
   "codemirror_mode": {
    "name": "ipython",
    "version": 3
   },
   "file_extension": ".py",
   "mimetype": "text/x-python",
   "name": "python",
   "nbconvert_exporter": "python",
   "pygments_lexer": "ipython3",
   "version": "3.8.13"
  }
 },
 "nbformat": 4,
 "nbformat_minor": 5
}
