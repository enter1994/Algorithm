{
 "cells": [
  {
   "cell_type": "code",
   "execution_count": 47,
   "id": "b67e183b-73db-4633-880b-38962341186f",
   "metadata": {},
   "outputs": [
    {
     "name": "stdin",
     "output_type": "stream",
     "text": [
      " 27362\n"
     ]
    },
    {
     "name": "stdout",
     "output_type": "stream",
     "text": [
      "2\n"
     ]
    }
   ],
   "source": [
    "from math import sqrt\n",
    "\n",
    "n = int(input())\n",
    "boolean = False\n",
    "result = 4\n",
    "\n",
    "if sqrt(n) == int(sqrt(n)):\n",
    "    result = 1\n",
    "    boolean = True\n",
    "    \n",
    "if boolean == False:\n",
    "    for i in range(1, int(sqrt(n))+1):\n",
    "        if sqrt(n-i**2) == int(sqrt(n-i**2)):\n",
    "            result = 2\n",
    "            boolean = True\n",
    "            break\n",
    "\n",
    "if boolean == False:\n",
    "    for i in range(1, int(sqrt(n))+1):\n",
    "        for j in range(1, int(sqrt(n-i**2))+1):\n",
    "            if sqrt(n-i**2-j**2) == int(sqrt(n-i**2-j**2)):\n",
    "                result = 3\n",
    "                boolean = True\n",
    "                break\n",
    "        if boolean == True:\n",
    "            break\n",
    "\n",
    "print(result)"
   ]
  }
 ],
 "metadata": {
  "kernelspec": {
   "display_name": "Python 3 (ipykernel)",
   "language": "python",
   "name": "python3"
  },
  "language_info": {
   "codemirror_mode": {
    "name": "ipython",
    "version": 3
   },
   "file_extension": ".py",
   "mimetype": "text/x-python",
   "name": "python",
   "nbconvert_exporter": "python",
   "pygments_lexer": "ipython3",
   "version": "3.8.13"
  }
 },
 "nbformat": 4,
 "nbformat_minor": 5
}
