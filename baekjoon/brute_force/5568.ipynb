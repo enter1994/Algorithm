{
 "cells": [
  {
   "cell_type": "code",
   "execution_count": 6,
   "id": "97930684-c341-4059-aae1-e3f396364224",
   "metadata": {},
   "outputs": [
    {
     "name": "stdin",
     "output_type": "stream",
     "text": [
      " 4\n",
      " 2\n",
      " 1\n",
      " 2\n",
      " 12\n",
      " 1\n"
     ]
    },
    {
     "name": "stdout",
     "output_type": "stream",
     "text": [
      "7\n"
     ]
    }
   ],
   "source": [
    "from itertools import permutations\n",
    "\n",
    "n = int(input())\n",
    "k = int(input())\n",
    "li = list(input().strip() for _ in range(n))\n",
    "result = set()\n",
    "\n",
    "for num in permutations(li, k):\n",
    "    num = ''.join(num)    \n",
    "    result.add(num)\n",
    "    \n",
    "print(len(result))"
   ]
  },
  {
   "cell_type": "code",
   "execution_count": null,
   "id": "e95cf5fd-8d8b-47b7-a2b5-21ceb41681a2",
   "metadata": {},
   "outputs": [],
   "source": []
  }
 ],
 "metadata": {
  "kernelspec": {
   "display_name": "Python 3 (ipykernel)",
   "language": "python",
   "name": "python3"
  },
  "language_info": {
   "codemirror_mode": {
    "name": "ipython",
    "version": 3
   },
   "file_extension": ".py",
   "mimetype": "text/x-python",
   "name": "python",
   "nbconvert_exporter": "python",
   "pygments_lexer": "ipython3",
   "version": "3.8.13"
  }
 },
 "nbformat": 4,
 "nbformat_minor": 5
}
