{
 "cells": [
  {
   "cell_type": "code",
   "execution_count": 13,
   "id": "3179760d-9f79-4f70-85a7-7e7c55f555b3",
   "metadata": {},
   "outputs": [
    {
     "name": "stdin",
     "output_type": "stream",
     "text": [
      " 657 3\n",
      " 1 5 7\n"
     ]
    },
    {
     "name": "stdout",
     "output_type": "stream",
     "text": [
      "577\n"
     ]
    }
   ],
   "source": [
    "# runtime error\n",
    "\n",
    "from itertools import product\n",
    "\n",
    "target, m = map(int, input().split())\n",
    "li = list(map(str, input().split()))\n",
    "l = len(str(target))\n",
    "\n",
    "while True:\n",
    "    lis = list(product(li, repeat=l))\n",
    "    result = []\n",
    "\n",
    "    for num in lis:\n",
    "        n = int(''.join(num))\n",
    "        if n <= target:\n",
    "            result.append(n)\n",
    "    \n",
    "    if len(result) >= 1:\n",
    "        print(max(result))\n",
    "        break\n",
    "        \n",
    "    else:\n",
    "        l -= 1"
   ]
  }
 ],
 "metadata": {
  "kernelspec": {
   "display_name": "Python 3 (ipykernel)",
   "language": "python",
   "name": "python3"
  },
  "language_info": {
   "codemirror_mode": {
    "name": "ipython",
    "version": 3
   },
   "file_extension": ".py",
   "mimetype": "text/x-python",
   "name": "python",
   "nbconvert_exporter": "python",
   "pygments_lexer": "ipython3",
   "version": "3.8.13"
  }
 },
 "nbformat": 4,
 "nbformat_minor": 5
}
