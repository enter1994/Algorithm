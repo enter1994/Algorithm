{
 "cells": [
  {
   "cell_type": "markdown",
   "id": "caff7fa0-e46f-4ede-8002-03f77361393d",
   "metadata": {},
   "source": [
    "# A → B\n",
    "\n",
    "## 문제\n",
    "\n",
    "정수 A를 B로 바꾸려고 한다. 가능한 연산은 다음과 같은 두 가지이다.\n",
    "\n",
    "2를 곱한다.\n",
    "1을 수의 가장 오른쪽에 추가한다. \n",
    "A를 B로 바꾸는데 필요한 연산의 최솟값을 구해보자.\n",
    "\n",
    "## 입력\n",
    "\n",
    "첫째 줄에 A, B (1 ≤ A < B ≤ 109)가 주어진다.\n",
    "\n",
    "## 출력\n",
    "\n",
    "A를 B로 바꾸는데 필요한 연산의 최솟값에 1을 더한 값을 출력한다. 만들 수 없는 경우에는 -1을 출력한다.\n",
    "\n",
    "### 예제 입력 1 \n",
    "\n",
    "2 162\n",
    "\n",
    "### 예제 출력 1 \n",
    "\n",
    "5\n",
    "\n",
    "2 → 4 → 8 → 81 → 162\n",
    "\n",
    "### 예제 입력 2 \n",
    "\n",
    "4 42\n",
    "\n",
    "### 예제 출력 2 \n",
    "\n",
    "-1\n",
    "\n",
    "### 예제 입력 3 \n",
    "\n",
    "100 40021\n",
    "\n",
    "### 예제 출력 3 \n",
    "\n",
    "5\n",
    "\n",
    "100 → 200 → 2001 → 4002 → 40021"
   ]
  },
  {
   "cell_type": "code",
   "execution_count": 13,
   "id": "91831086-013c-4b5b-8a1b-5c68df88196e",
   "metadata": {},
   "outputs": [
    {
     "name": "stdin",
     "output_type": "stream",
     "text": [
      " 7 70\n"
     ]
    },
    {
     "name": "stdout",
     "output_type": "stream",
     "text": [
      "-1\n"
     ]
    }
   ],
   "source": [
    "a, b = map(int, input().split())\n",
    "cnt = 0\n",
    "\n",
    "while b > a:\n",
    "    if b % 2 == 0:\n",
    "        b = b // 2\n",
    "        cnt += 1\n",
    "        \n",
    "    elif b % 2 == 1:\n",
    "        b = str(b)\n",
    "        if '1' not in b:\n",
    "            break\n",
    "        \n",
    "        b = b[:-1]\n",
    "        b = int(b)\n",
    "        cnt += 1\n",
    "\n",
    "if b == a:\n",
    "    print(cnt+1)\n",
    "    \n",
    "else:\n",
    "    print(-1)"
   ]
  },
  {
   "cell_type": "code",
   "execution_count": null,
   "id": "833e5da2-ba52-4d7e-bd24-e2329508c5f0",
   "metadata": {},
   "outputs": [],
   "source": []
  },
  {
   "cell_type": "code",
   "execution_count": null,
   "id": "7923ecc2-5015-4543-9eff-7414bc7ebd9a",
   "metadata": {},
   "outputs": [],
   "source": []
  }
 ],
 "metadata": {
  "kernelspec": {
   "display_name": "Python 3 (ipykernel)",
   "language": "python",
   "name": "python3"
  },
  "language_info": {
   "codemirror_mode": {
    "name": "ipython",
    "version": 3
   },
   "file_extension": ".py",
   "mimetype": "text/x-python",
   "name": "python",
   "nbconvert_exporter": "python",
   "pygments_lexer": "ipython3",
   "version": "3.8.13"
  }
 },
 "nbformat": 4,
 "nbformat_minor": 5
}
