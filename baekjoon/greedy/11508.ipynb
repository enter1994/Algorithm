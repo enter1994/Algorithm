{
 "cells": [
  {
   "cell_type": "markdown",
   "id": "a18d6680-fcfc-422a-856c-b20abfe47ada",
   "metadata": {},
   "source": [
    "## 문제\n",
    "\n",
    "KSG 편의점에서는 과일우유, 드링킹요구르트 등의 유제품을 '2+1 세일'하는 행사를 하고 있습니다. KSG 편의점에서 유제품 3개를 한 번에 산다면 그중에서 가장 싼 것은 무료로 지불하고 나머지 두 개의 제품 가격만 지불하면 됩니다. 한 번에 3개의 유제품을 사지 않는다면 할인 없이 정가를 지불해야 합니다.\n",
    "\n",
    "예를 들어, 7개의 유제품이 있어서 각 제품의 가격이 10, 9, 4, 2, 6, 4, 3이고 재현이가 (10, 3, 2), (4, 6, 4), (9)로 총 3번에 걸쳐서 물건을 산다면 첫 번째 꾸러미에서는 13원을, 두 번째 꾸러미에서는 10원을, 세 번째 꾸러미에서는 9원을 지불해야 합니다.\n",
    "\n",
    "재현이는 KSG 편의점에서 친구들과 같이 먹을 총 N팩의 유제품을 구입하려고 합니다. 재현이를 도와 최소비용으로 유제품을 구입할 수 있도록 도와주세요!\n",
    "\n",
    "## 입력\n",
    "\n",
    "첫 번째 줄에는 유제품의 수 N (1 ≤ N ≤ 100,000)이 주어집니다.  \n",
    "\n",
    "두 번째 줄부터 N개의 줄에는 각 유제품의 가격 Ci (1 ≤ Ci ≤ 100,000)가 주어집니다.\n",
    "\n",
    "## 출력\n",
    "\n",
    "재현이가 N개의 유제품을 모두 살 때 필요한 최소비용을 출력합니다. 정답은 231-1보다 작거나 같다.\n",
    "\n",
    "## 예제\n",
    "1)  \n",
    "- 입력  \n",
    "4  \n",
    "3  \n",
    "2  \n",
    "3  \n",
    "2  \n",
    "\n",
    "- 출력  \n",
    "8\n",
    "\n",
    "2)  \n",
    "- 입력  \n",
    "6  \n",
    "6  \n",
    "4  \n",
    "5  \n",
    "5  \n",
    "5  \n",
    "5  \n",
    "\n",
    "- 출력  \n",
    "21"
   ]
  },
  {
   "cell_type": "code",
   "execution_count": 4,
   "id": "f69c5d3d-cc26-45f6-9134-da3dbc00e134",
   "metadata": {},
   "outputs": [
    {
     "name": "stdin",
     "output_type": "stream",
     "text": [
      " 6\n",
      " 6\n",
      " 4\n",
      " 5\n",
      " 5\n",
      " 5\n",
      " 5\n"
     ]
    },
    {
     "name": "stdout",
     "output_type": "stream",
     "text": [
      "21\n"
     ]
    }
   ],
   "source": [
    "n = int(input())\n",
    "price = list(int(input()) for _ in range(n))\n",
    "price = sorted(price, reverse=True)\n",
    "result = 0\n",
    "\n",
    "for i in range(n):\n",
    "    if (i+1) % 3 != 0:\n",
    "        result += price[i]\n",
    "        \n",
    "print(result)"
   ]
  },
  {
   "cell_type": "code",
   "execution_count": 3,
   "id": "d083fd08-9210-4e3b-8f78-df338994082d",
   "metadata": {},
   "outputs": [
    {
     "data": {
      "text/plain": [
       "8"
      ]
     },
     "execution_count": 3,
     "metadata": {},
     "output_type": "execute_result"
    }
   ],
   "source": [
    "result"
   ]
  },
  {
   "cell_type": "code",
   "execution_count": null,
   "id": "d0891e44-5bff-43bc-9832-1a02355a19c0",
   "metadata": {},
   "outputs": [],
   "source": []
  },
  {
   "cell_type": "code",
   "execution_count": null,
   "id": "3a3ad771-0a69-4645-8390-1ed9ac58e99d",
   "metadata": {},
   "outputs": [],
   "source": []
  },
  {
   "cell_type": "code",
   "execution_count": null,
   "id": "38878099-36ec-405c-b8d4-d1cd8d206a34",
   "metadata": {},
   "outputs": [],
   "source": []
  },
  {
   "cell_type": "code",
   "execution_count": null,
   "id": "2533dd08-2176-48b2-b2c4-0b0722a84ed3",
   "metadata": {},
   "outputs": [],
   "source": []
  },
  {
   "cell_type": "code",
   "execution_count": null,
   "id": "2bee0eb6-8d92-4497-baf2-7866fa3e3b43",
   "metadata": {},
   "outputs": [],
   "source": []
  }
 ],
 "metadata": {
  "kernelspec": {
   "display_name": "Python 3 (ipykernel)",
   "language": "python",
   "name": "python3"
  },
  "language_info": {
   "codemirror_mode": {
    "name": "ipython",
    "version": 3
   },
   "file_extension": ".py",
   "mimetype": "text/x-python",
   "name": "python",
   "nbconvert_exporter": "python",
   "pygments_lexer": "ipython3",
   "version": "3.8.13"
  }
 },
 "nbformat": 4,
 "nbformat_minor": 5
}
