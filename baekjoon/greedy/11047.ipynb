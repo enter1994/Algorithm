{
 "cells": [
  {
   "cell_type": "markdown",
   "id": "8e164056-a596-4f0e-ab62-32930dbe447d",
   "metadata": {},
   "source": [
    "## 문제\n",
    "\n",
    "준규가 가지고 있는 동전은 총 N종류이고, 각각의 동전을 매우 많이 가지고 있다.\n",
    "\n",
    "동전을 적절히 사용해서 그 가치의 합을 K로 만들려고 한다. 이때 필요한 동전 개수의 최솟값을 구하는 프로그램을 작성하시오.\n",
    "\n",
    "## 입력\n",
    "\n",
    "첫째 줄에 N과 K가 주어진다. (1 ≤ N ≤ 10, 1 ≤ K ≤ 100,000,000)\n",
    "\n",
    "둘째 줄부터 N개의 줄에 동전의 가치 Ai가 오름차순으로 주어진다. (1 ≤ Ai ≤ 1,000,000, A1 = 1, i ≥ 2인 경우에 Ai는 Ai-1의 배수)\n",
    "\n",
    "## 출력\n",
    "\n",
    "첫째 줄에 K원을 만드는데 필요한 동전 개수의 최솟값을 출력한다.\n",
    "\n",
    "## 예제\n",
    "1)  \n",
    "- 입력  \n",
    "10 4200  \n",
    "1  \n",
    "5  \n",
    "10  \n",
    "50  \n",
    "100  \n",
    "500  \n",
    "1000  \n",
    "5000  \n",
    "10000  \n",
    "50000  \n",
    "\n",
    "- 출력  \n",
    "6\n",
    "\n",
    "2)  \n",
    "- 입력  \n",
    "10 4790  \n",
    "1  \n",
    "5  \n",
    "10  \n",
    "50  \n",
    "100  \n",
    "500  \n",
    "1000  \n",
    "5000  \n",
    "10000  \n",
    "50000  \n",
    "\n",
    "- 출력  \n",
    "12"
   ]
  },
  {
   "cell_type": "code",
   "execution_count": 7,
   "id": "93930654-0962-4e15-a3e4-7be684022c8e",
   "metadata": {},
   "outputs": [
    {
     "name": "stdin",
     "output_type": "stream",
     "text": [
      " 2 2\n",
      " 1\n",
      " 2\n"
     ]
    },
    {
     "name": "stdout",
     "output_type": "stream",
     "text": [
      "1\n"
     ]
    }
   ],
   "source": [
    "n, price = map(int, input().split())\n",
    "coin = list(int(input()) for _ in range(n))\n",
    "coin = sorted(coin, reverse=True)\n",
    "result = 0\n",
    "\n",
    "for c in coin:\n",
    "    if c <= price:\n",
    "        num = price // c\n",
    "        result += num\n",
    "        price -= (num * c)\n",
    "            \n",
    "print(result)"
   ]
  },
  {
   "cell_type": "code",
   "execution_count": null,
   "id": "35d9e50c-d44d-4f7a-9811-96077843ccc0",
   "metadata": {},
   "outputs": [],
   "source": []
  },
  {
   "cell_type": "code",
   "execution_count": null,
   "id": "d75a17ee-d898-4b57-9fdb-2a3aa4467453",
   "metadata": {},
   "outputs": [],
   "source": []
  },
  {
   "cell_type": "code",
   "execution_count": null,
   "id": "ed2f81d5-020a-4081-bf06-bf09ccdfbb88",
   "metadata": {},
   "outputs": [],
   "source": []
  }
 ],
 "metadata": {
  "kernelspec": {
   "display_name": "Python 3 (ipykernel)",
   "language": "python",
   "name": "python3"
  },
  "language_info": {
   "codemirror_mode": {
    "name": "ipython",
    "version": 3
   },
   "file_extension": ".py",
   "mimetype": "text/x-python",
   "name": "python",
   "nbconvert_exporter": "python",
   "pygments_lexer": "ipython3",
   "version": "3.8.13"
  }
 },
 "nbformat": 4,
 "nbformat_minor": 5
}
