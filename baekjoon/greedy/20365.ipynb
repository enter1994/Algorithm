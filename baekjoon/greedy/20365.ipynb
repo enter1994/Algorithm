{
 "cells": [
  {
   "cell_type": "markdown",
   "id": "bd901abd-3b79-4b19-ba5e-4aa42c38864d",
   "metadata": {},
   "source": [
    "## 문제\n",
    "\n",
    "neighbor 블로그를 운영하는 일우는 매일 아침 풀고 싶은 문제를 미리 정해놓고 글을 올린다. 그리고 매일 밤 각각의 문제에 대하여, 해결한 경우 파란색, 해결하지 못한 경우 빨간색으로 칠한다. 일우는 각 문제를 칠할 때 아래와 같은 과정을 한 번의 작업으로 수행한다.\n",
    "\n",
    "연속된 임의의 문제들을 선택한다.\n",
    "선택된 문제들을 전부 원하는 같은 색으로 칠한다.\n",
    "\n",
    "\n",
    "예를 들어, 각 문제를 위와 같은 색으로 칠하려고 할 때, 1~2번 문제를 파란색, 3번을 빨간색, 4번을 파란색, 5번을 빨간색, 6~7번을 파란색, 8번을 빨간색으로 칠하는 작업을 순서대로 수행하면 6번의 작업을 거쳐야 한다. 하지만, 1~7번 문제를 파란색, 3번을 빨간색, 5번을 빨간색, 8번을 빨간색으로 순서대로 칠한다면 작업 횟수는 4번으로 가장 적다.\n",
    "\n",
    "일우는 매일 500,000문제까지 시도하기 때문에, 이 작업이 꽤나 귀찮아지기 시작했다. 그래서 가장 효율적인 방법으로 위 작업을 수행하기를 원한다. 일우를 도와 각 문제를 주어진 색으로 칠할 때 필요한 최소한의 작업 횟수를 구하는 프로그램을 작성하라.\n",
    "\n",
    "## 입력\n",
    "\n",
    "첫째 줄에 색을 칠해야 하는 문제의 수 N (1 ≤ N ≤ 500,000)이 주어진다.\n",
    "\n",
    "둘째 줄에 N개의 문자가 공백 없이 순서대로 주어진다. 각 문자는 i번째 문제를 어떤 색으로 칠해야 하는지를 의미하며, R은 빨간색, B는 파란색을 나타낸다. 그 외에 다른 문자는 주어지지 않는다.\n",
    "\n",
    "## 출력\n",
    "\n",
    "첫째 줄에 일우가 주어진 모든 문제를 원하는 색으로 칠할 때까지 필요한 작업 횟수의 최솟값을 출력하라.\n",
    "\n",
    "---\n",
    "\n",
    "### 예제 입력 1 \n",
    "\n",
    "8  \n",
    "BBRBRBBR\n",
    "\n",
    "### 예제 출력 1 \n",
    "4  \n",
    "\n",
    "위의 예시와 같다.\n",
    "\n"
   ]
  },
  {
   "cell_type": "code",
   "execution_count": 26,
   "id": "fef27c5a-8c09-40cd-9248-dcf896f1eea0",
   "metadata": {},
   "outputs": [
    {
     "name": "stdin",
     "output_type": "stream",
     "text": [
      " 8\n",
      " BBRBRBBR\n"
     ]
    },
    {
     "name": "stdout",
     "output_type": "stream",
     "text": [
      "4\n"
     ]
    }
   ],
   "source": [
    "n = int(input())\n",
    "colors = str(input())\n",
    "counts = {'B':0, 'R':0}\n",
    "counts[colors[0]] += 1\n",
    "\n",
    "for i in range(1, n):\n",
    "    if colors[i] != colors[i-1]:\n",
    "        counts[colors[i]] += 1\n",
    "\n",
    "print(min(counts['B'], counts['R']) + 1)"
   ]
  },
  {
   "cell_type": "code",
   "execution_count": null,
   "id": "85160f30-6a3d-44a2-8e1b-11c9344c7081",
   "metadata": {},
   "outputs": [],
   "source": []
  }
 ],
 "metadata": {
  "kernelspec": {
   "display_name": "Python 3 (ipykernel)",
   "language": "python",
   "name": "python3"
  },
  "language_info": {
   "codemirror_mode": {
    "name": "ipython",
    "version": 3
   },
   "file_extension": ".py",
   "mimetype": "text/x-python",
   "name": "python",
   "nbconvert_exporter": "python",
   "pygments_lexer": "ipython3",
   "version": "3.8.13"
  }
 },
 "nbformat": 4,
 "nbformat_minor": 5
}
