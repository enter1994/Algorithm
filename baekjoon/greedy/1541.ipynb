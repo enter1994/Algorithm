{
 "cells": [
  {
   "cell_type": "markdown",
   "id": "d2d5e0e4-a721-4fab-b26a-ceb6f69c8826",
   "metadata": {},
   "source": [
    "# 잃어버린 괄호\n",
    "\n",
    "## 문제\n",
    "\n",
    "세준이는 양수와 +, -, 그리고 괄호를 가지고 식을 만들었다. 그리고 나서 세준이는 괄호를 모두 지웠다.\n",
    "\n",
    "그리고 나서 세준이는 괄호를 적절히 쳐서 이 식의 값을 최소로 만들려고 한다.\n",
    "\n",
    "괄호를 적절히 쳐서 이 식의 값을 최소로 만드는 프로그램을 작성하시오.\n",
    "\n",
    "## 입력\n",
    "\n",
    "첫째 줄에 식이 주어진다. 식은 ‘0’~‘9’, ‘+’, 그리고 ‘-’만으로 이루어져 있고, 가장 처음과 마지막 문자는 숫자이다. 그리고 연속해서 두 개 이상의 연산자가 나타나지 않고, 5자리보다 많이 연속되는 숫자는 없다. 수는 0으로 시작할 수 있다. 입력으로 주어지는 식의 길이는 50보다 작거나 같다.\n",
    "\n",
    "## 출력\n",
    "\n",
    "첫째 줄에 정답을 출력한다.\n",
    "\n",
    "### 예제 입력 1 \n",
    "\n",
    "55-50+40\n",
    "\n",
    "### 예제 출력 1 \n",
    "\n",
    "-35\n",
    "\n",
    "### 예제 입력 2 \n",
    "\n",
    "10+20+30+40\n",
    "\n",
    "### 예제 출력 2 \n",
    "\n",
    "100\n",
    "\n",
    "### 예제 입력 3 \n",
    "\n",
    "00009-00009\n",
    "\n",
    "### 예제 출력 3 \n",
    "\n",
    "0\n"
   ]
  },
  {
   "cell_type": "code",
   "execution_count": 43,
   "id": "05025a1c-7dec-40ad-bbb1-b10c269a1a3d",
   "metadata": {},
   "outputs": [
    {
     "name": "stdin",
     "output_type": "stream",
     "text": [
      " 55-50+40\n"
     ]
    },
    {
     "name": "stdout",
     "output_type": "stream",
     "text": [
      "-35\n"
     ]
    }
   ],
   "source": [
    "f = input()\n",
    "f = f.split('-')\n",
    "result = 0\n",
    "\n",
    "for num in f[0].split('+'):\n",
    "    result += int(num)\n",
    "    \n",
    "for num in f[1:]:\n",
    "    for n in num.split('+'):\n",
    "        result -= int(n)\n",
    "    \n",
    "print(result)"
   ]
  },
  {
   "cell_type": "code",
   "execution_count": null,
   "id": "bf2fac37-f1fd-42e1-a5e3-e001ff910607",
   "metadata": {},
   "outputs": [],
   "source": []
  }
 ],
 "metadata": {
  "kernelspec": {
   "display_name": "Python 3 (ipykernel)",
   "language": "python",
   "name": "python3"
  },
  "language_info": {
   "codemirror_mode": {
    "name": "ipython",
    "version": 3
   },
   "file_extension": ".py",
   "mimetype": "text/x-python",
   "name": "python",
   "nbconvert_exporter": "python",
   "pygments_lexer": "ipython3",
   "version": "3.8.13"
  }
 },
 "nbformat": 4,
 "nbformat_minor": 5
}
