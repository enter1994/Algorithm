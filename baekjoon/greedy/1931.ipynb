{
 "cells": [
  {
   "cell_type": "code",
   "execution_count": 11,
   "id": "8a8d656b-14a2-4822-ba21-4c7857b71e6c",
   "metadata": {},
   "outputs": [
    {
     "name": "stdin",
     "output_type": "stream",
     "text": [
      " 11\n",
      " 1 4\n",
      " 3 5\n",
      " 0 6\n",
      " 5 7\n",
      " 3 8\n",
      " 5 9\n",
      " 6 10\n",
      " 8 11 \n",
      " 8 12 \n",
      " 2 13\n",
      " 12 14\n"
     ]
    }
   ],
   "source": [
    "n = int(input())\n",
    "time = []\n",
    "for _ in range(n):\n",
    "    a, b = map(int, input().split())\n",
    "    time.append((a, b))"
   ]
  },
  {
   "cell_type": "code",
   "execution_count": 43,
   "id": "ea934d57-b04a-4496-9d89-787d6d3c6d20",
   "metadata": {},
   "outputs": [],
   "source": [
    "time = sorted(time, key=lambda x: (x[1], x[0]))\n",
    "end = time[0][1]\n",
    "cnt = 1\n",
    "for i in range(1, n):\n",
    "    if time[i][0] >= end:\n",
    "        cnt += 1\n",
    "        end = time[i][1]"
   ]
  },
  {
   "cell_type": "code",
   "execution_count": 44,
   "id": "41bc530e-df6c-47c3-bb0a-147754d4f36c",
   "metadata": {},
   "outputs": [
    {
     "data": {
      "text/plain": [
       "11"
      ]
     },
     "execution_count": 44,
     "metadata": {},
     "output_type": "execute_result"
    }
   ],
   "source": [
    "cnt"
   ]
  },
  {
   "cell_type": "code",
   "execution_count": null,
   "id": "b52cadf4-ab0a-4ddf-8e4a-d565a0d122f1",
   "metadata": {},
   "outputs": [],
   "source": []
  }
 ],
 "metadata": {
  "kernelspec": {
   "display_name": "Python 3 (ipykernel)",
   "language": "python",
   "name": "python3"
  },
  "language_info": {
   "codemirror_mode": {
    "name": "ipython",
    "version": 3
   },
   "file_extension": ".py",
   "mimetype": "text/x-python",
   "name": "python",
   "nbconvert_exporter": "python",
   "pygments_lexer": "ipython3",
   "version": "3.8.13"
  }
 },
 "nbformat": 4,
 "nbformat_minor": 5
}
