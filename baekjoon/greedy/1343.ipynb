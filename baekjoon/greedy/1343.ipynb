{
 "cells": [
  {
   "cell_type": "markdown",
   "id": "eb0284dc-37df-465d-9d52-23a144849f39",
   "metadata": {},
   "source": [
    "## 문제\n",
    "\n",
    "민식이는 다음과 같은 폴리오미노 2개를 무한개만큼 가지고 있다. AAAA와 BB  \n",
    "\n",
    "이제 '.'와 'X'로 이루어진 보드판이 주어졌을 때, 민식이는 겹침없이 'X'를 모두 폴리오미노로 덮으려고 한다.  \n",
    "이때, '.'는 폴리오미노로 덮으면 안 된다.  \n",
    "\n",
    "폴리오미노로 모두 덮은 보드판을 출력하는 프로그램을 작성하시오.\n",
    "\n",
    "## 입력\n",
    "\n",
    "첫째 줄에 보드판이 주어진다. 보드판의 크기는 최대 50이다.\n",
    "\n",
    "## 출력\n",
    "\n",
    "첫째 줄에 사전순으로 가장 앞서는 답을 출력한다. 만약 덮을 수 없으면 -1을 출력한다.\n",
    "\n",
    "## 예제\n",
    "1)  \n",
    "XXXXXX  \n",
    "AAAABB  \n",
    "\n",
    "2)  \n",
    "XX.XX  \n",
    "BB.BB\n",
    "\n",
    "3) \n",
    "XXXX....XXX.....XX  \n",
    "-1\n",
    "\n",
    "4) \n",
    "X  \n",
    "-1\n",
    "\n",
    "5) \n",
    "XX.XXXXXXXXXX..XXXXXXXX...XXXXXX  \n",
    "BB.AAAAAAAABB..AAAAAAAA...AAAABB"
   ]
  },
  {
   "cell_type": "code",
   "execution_count": 5,
   "id": "2508e881-4a4e-4116-98d2-921fd49bf8fa",
   "metadata": {},
   "outputs": [
    {
     "name": "stdin",
     "output_type": "stream",
     "text": [
      " XX.XX\n"
     ]
    },
    {
     "name": "stdout",
     "output_type": "stream",
     "text": [
      "BB.BB\n"
     ]
    }
   ],
   "source": [
    "board = str(input())\n",
    "\n",
    "board = board.replace('XXXX', 'AAAA')\n",
    "board = board.replace('XX', 'BB')\n",
    "\n",
    "if 'X' in board:\n",
    "    print(-1)\n",
    "    \n",
    "else:\n",
    "    print(board)"
   ]
  },
  {
   "cell_type": "code",
   "execution_count": null,
   "id": "c8a5a995-25a3-47d9-871b-3caf91b1b2b4",
   "metadata": {},
   "outputs": [],
   "source": []
  }
 ],
 "metadata": {
  "kernelspec": {
   "display_name": "Python 3 (ipykernel)",
   "language": "python",
   "name": "python3"
  },
  "language_info": {
   "codemirror_mode": {
    "name": "ipython",
    "version": 3
   },
   "file_extension": ".py",
   "mimetype": "text/x-python",
   "name": "python",
   "nbconvert_exporter": "python",
   "pygments_lexer": "ipython3",
   "version": "3.8.13"
  }
 },
 "nbformat": 4,
 "nbformat_minor": 5
}
