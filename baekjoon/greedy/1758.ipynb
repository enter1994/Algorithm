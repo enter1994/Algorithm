{
 "cells": [
  {
   "cell_type": "markdown",
   "id": "f4a4eac0-4921-48e8-8961-0340d57f9989",
   "metadata": {},
   "source": [
    "## 문제\n",
    "\n",
    "스타박스는 손님을 입장시킬 때 독특한 방법으로 입장시킨다.\n",
    "\n",
    "스타박스에서는 손님을 8시가 될 때 까지, 문앞에 줄 세워 놓는다. 그리고 8시가 되는 순간 손님들은 모두 입구에서 커피를 하나씩 받고, 자리로 간다. 강호는 입구에서 커피를 하나씩 주는 역할을 한다.\n",
    "\n",
    "손님들은 입구에 들어갈 때, 강호에게 팁을 준다. 손님들은 자기가 커피를 몇 번째 받는지에 따라 팁을 다른 액수로 강호에게 준다. 각 손님은 강호에게 원래 주려고 생각했던 돈 - (받은 등수 - 1) 만큼의 팁을 강호에게 준다. 만약, 위의 식으로 나온 값이 음수라면, 강호는 팁을 받을 수 없다.\n",
    "\n",
    "예를 들어, 민호는 팁을 3원 주려고 했고, 재필이는 팁을 2원, 주현이가 팁을 1원 주려고 한 경우를 생각해보자.\n",
    "\n",
    "민호, 재필, 주현이 순서대로 줄을 서있다면, 민호는 강호에게 3-(1-1) = 3원, 재필이는 2-(2-1) = 1원, 주현이는 1-(3-1) = -1원을 팁으로 주게 된다. 주현이는 음수이기 때문에, 강호에게 팁을 주지 않는다. 따라서, 강호는 팁을 3+1+0=4원을 받게 된다.\n",
    "\n",
    "스타박스 앞에 있는 사람의 수 N과, 각 사람이 주려고 생각하는 팁이 주어질 때, 손님의 순서를 적절히 바꿨을 때, 강호가 받을 수 잇는 팁의 최댓값을 구하는 프로그램을 작성하시오.\n",
    "\n",
    "## 입력\n",
    "\n",
    "첫째 줄에 스타박스 앞에 서 있는 사람의 수 N이 주어진다. N은 100,000보다 작거나 같은 자연수이다. 둘째 줄부터 총 N개의 줄에 각 사람이 주려고 하는 팁이 주어진다. 팁은 100,000보다 작거나 같은 자연수이다.\n",
    "\n",
    "## 출력\n",
    "\n",
    "강호가 받을 수 있는 팁의 최댓값을 출력한다.\n",
    "\n",
    "## 예제\n",
    "\n",
    "1) \n",
    "- 입력  \n",
    "4  \n",
    "3  \n",
    "3  \n",
    "3  \n",
    "3  \n",
    "\n",
    "- 출력  \n",
    "6\n",
    "\n",
    "2)\n",
    "- 입력  \n",
    "3  \n",
    "3  \n",
    "2  \n",
    "3  \n",
    "\n",
    "- 출력  \n",
    "5\n",
    "\n",
    "3)\n",
    "- 입력  \n",
    "5  \n",
    "7  \n",
    "8  \n",
    "6  \n",
    "9  \n",
    "10  \n",
    "\n",
    "- 출력  \n",
    "30\n",
    "\n",
    "4)\n",
    "- 입력  \n",
    "5  \n",
    "1  \n",
    "1  \n",
    "1  \n",
    "1  \n",
    "2  \n",
    "\n",
    "- 출력  \n",
    "2\n",
    "\n",
    "5)\n",
    "- 입력  \n",
    "3  \n",
    "1  \n",
    "2  \n",
    "3  \n",
    "\n",
    "- 출력  \n",
    "4"
   ]
  },
  {
   "cell_type": "code",
   "execution_count": 13,
   "id": "774a8e72-2d56-46d1-abed-63d8e74ef937",
   "metadata": {},
   "outputs": [
    {
     "name": "stdin",
     "output_type": "stream",
     "text": [
      " 5\n",
      " 1\n",
      " 1\n",
      " 1\n",
      " 1\n",
      " 2\n"
     ]
    },
    {
     "name": "stdout",
     "output_type": "stream",
     "text": [
      "2\n"
     ]
    }
   ],
   "source": [
    "import sys\n",
    "\n",
    "n = int(input())\n",
    "coin = list(int(input()) for _ in range(n))\n",
    "coin = sorted(coin, reverse=True)\n",
    "result = 0\n",
    "\n",
    "for i in range(n):\n",
    "    tip = coin[i]-i\n",
    "    \n",
    "    if tip > 0:\n",
    "        result += tip\n",
    "        \n",
    "print(result)"
   ]
  },
  {
   "cell_type": "code",
   "execution_count": null,
   "id": "ec50bf26-5573-4ae1-8239-827a7d59bf04",
   "metadata": {},
   "outputs": [],
   "source": []
  },
  {
   "cell_type": "code",
   "execution_count": null,
   "id": "58a6dcbc-e60a-42f0-8fe4-573ae4d47585",
   "metadata": {},
   "outputs": [],
   "source": []
  }
 ],
 "metadata": {
  "kernelspec": {
   "display_name": "Python 3 (ipykernel)",
   "language": "python",
   "name": "python3"
  },
  "language_info": {
   "codemirror_mode": {
    "name": "ipython",
    "version": 3
   },
   "file_extension": ".py",
   "mimetype": "text/x-python",
   "name": "python",
   "nbconvert_exporter": "python",
   "pygments_lexer": "ipython3",
   "version": "3.8.13"
  }
 },
 "nbformat": 4,
 "nbformat_minor": 5
}
