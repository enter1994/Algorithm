{
 "cells": [
  {
   "cell_type": "markdown",
   "id": "b3244506-8f5b-4664-a82c-daa8186bb799",
   "metadata": {},
   "source": [
    "## 문제\n",
    "\n",
    "춘향이는 편의점 카운터에서 일한다.\n",
    "\n",
    "손님이 2원짜리와 5원짜리로만 거스름돈을 달라고 한다. 2원짜리 동전과 5원짜리 동전은 무한정 많이 가지고 있다. 동전의 개수가 최소가 되도록 거슬러 주어야 한다. 거스름돈이 n인 경우, 최소 동전의 개수가 몇 개인지 알려주는 프로그램을 작성하시오.\n",
    "\n",
    "예를 들어, 거스름돈이 15원이면 5원짜리 3개를, 거스름돈이 14원이면 5원짜리 2개와 2원짜리 2개로 총 4개를, 거스름돈이 13원이면 5원짜리 1개와 2원짜리 4개로 총 5개를 주어야 동전의 개수가 최소가 된다.\n",
    "\n",
    "## 입력\n",
    "\n",
    "첫째 줄에 거스름돈 액수 n(1 ≤ n ≤ 100,000)이 주어진다.\n",
    "\n",
    "## 출력\n",
    "\n",
    "거스름돈 동전의 최소 개수를 출력한다. 만약 거슬러 줄 수 없으면 -1을 출력한다.\n",
    "\n",
    "## 예제\n",
    "\n",
    "1)  \n",
    "입력 13  \n",
    "출력 5  \n",
    "\n",
    "2)  \n",
    "입력 14  \n",
    "출력 4"
   ]
  },
  {
   "cell_type": "code",
   "execution_count": 5,
   "id": "4e1c44bd-e369-49ba-86fe-08eb10e6fbf9",
   "metadata": {},
   "outputs": [
    {
     "name": "stdin",
     "output_type": "stream",
     "text": [
      " 3\n"
     ]
    },
    {
     "name": "stdout",
     "output_type": "stream",
     "text": [
      "-1\n"
     ]
    }
   ],
   "source": [
    "char = int(input())\n",
    "max_char = char // 5\n",
    "\n",
    "if char >= 5:\n",
    "    while True:\n",
    "        c = char - (5 * max_char)\n",
    "\n",
    "        if c == 0:\n",
    "            print(max_char)\n",
    "            break\n",
    "\n",
    "        if c % 2 != 0:\n",
    "            max_char -= 1\n",
    "\n",
    "        elif c % 2 == 0:\n",
    "            second_char = c // 2\n",
    "            print(max_char + second_char)\n",
    "            break\n",
    "\n",
    "        if c < 0:\n",
    "            print(-1)\n",
    "            break\n",
    "\n",
    "else:\n",
    "    if char % 2 == 0:\n",
    "        print(char // 2)\n",
    "    \n",
    "    else:\n",
    "        print(-1)"
   ]
  },
  {
   "cell_type": "code",
   "execution_count": null,
   "id": "7a74ebfa-39bc-4848-b84a-f343be7cd10d",
   "metadata": {},
   "outputs": [],
   "source": []
  }
 ],
 "metadata": {
  "kernelspec": {
   "display_name": "Python 3 (ipykernel)",
   "language": "python",
   "name": "python3"
  },
  "language_info": {
   "codemirror_mode": {
    "name": "ipython",
    "version": 3
   },
   "file_extension": ".py",
   "mimetype": "text/x-python",
   "name": "python",
   "nbconvert_exporter": "python",
   "pygments_lexer": "ipython3",
   "version": "3.8.13"
  }
 },
 "nbformat": 4,
 "nbformat_minor": 5
}
