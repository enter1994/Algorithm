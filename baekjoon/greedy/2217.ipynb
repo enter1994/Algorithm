{
 "cells": [
  {
   "cell_type": "markdown",
   "id": "ca4b1f06-9b89-4f45-83a6-6bbd19dd6b74",
   "metadata": {},
   "source": [
    "## 문제\n",
    "\n",
    "N(1 ≤ N ≤ 100,000)개의 로프가 있다. 이 로프를 이용하여 이런 저런 물체를 들어올릴 수 있다. 각각의 로프는 그 굵기나 길이가 다르기 때문에 들 수 있는 물체의 중량이 서로 다를 수도 있다.  \n",
    "\n",
    "하지만 여러 개의 로프를 병렬로 연결하면 각각의 로프에 걸리는 중량을 나눌 수 있다. k개의 로프를 사용하여 중량이 w인 물체를 들어올릴 때, 각각의 로프에는 모두 고르게 w/k 만큼의 중량이 걸리게 된다.  \n",
    "\n",
    "각 로프들에 대한 정보가 주어졌을 때, 이 로프들을 이용하여 들어올릴 수 있는 물체의 최대 중량을 구해내는 프로그램을 작성하시오. 모든 로프를 사용해야 할 필요는 없으며, 임의로 몇 개의 로프를 골라서 사용해도 된다.  \n",
    "\n",
    "## 입력\n",
    "\n",
    "첫째 줄에 정수 N이 주어진다. 다음 N개의 줄에는 각 로프가 버틸 수 있는 최대 중량이 주어진다. 이 값은 10,000을 넘지 않는 자연수이다.\n",
    "\n",
    "## 출력\n",
    "\n",
    "첫째 줄에 답을 출력한다.\n",
    "\n",
    "## 예제\n",
    "1)  \n",
    "- 입력  \n",
    "2  \n",
    "10  \n",
    "15  \n",
    "\n",
    "- 출력  \n",
    "20"
   ]
  },
  {
   "cell_type": "code",
   "execution_count": 35,
   "id": "e8be1d0f-47d3-4994-919b-74317a313049",
   "metadata": {},
   "outputs": [
    {
     "name": "stdin",
     "output_type": "stream",
     "text": [
      " 5\n",
      " 1\n",
      " 2\n",
      " 3\n",
      " 4\n",
      " 5\n"
     ]
    },
    {
     "name": "stdout",
     "output_type": "stream",
     "text": [
      "9\n"
     ]
    }
   ],
   "source": [
    "n = int(input())\n",
    "li = list(int(input()) for _ in range(n))\n",
    "li = sorted(li, reverse=True)\n",
    "result = []\n",
    "\n",
    "for i in range(n):\n",
    "    m = li[i] * (i+1)\n",
    "    result.append(m)\n",
    "    \n",
    "print(max(result))"
   ]
  },
  {
   "cell_type": "code",
   "execution_count": 6,
   "id": "268ac355-cc3c-4b93-97cb-8904f770e69d",
   "metadata": {},
   "outputs": [
    {
     "name": "stdin",
     "output_type": "stream",
     "text": [
      " 3\n",
      " 1\n",
      " 5\n",
      " 9\n"
     ]
    },
    {
     "name": "stdout",
     "output_type": "stream",
     "text": [
      "10\n"
     ]
    }
   ],
   "source": [
    "# 이거 왜 안되는지,,,?\n",
    "# 아 이게 값이 줄어들다 커질 수도 있고, 커지다가 줄어들수도 있나?\n",
    "\n",
    "n = int(input())\n",
    "li = list(int(input()) for _ in range(n))\n",
    "li = sorted(li, reverse=True)\n",
    "max_num = 0\n",
    "\n",
    "for i in range(n):\n",
    "    m = li[i] * (i+1)\n",
    "    \n",
    "    if max_num < m:\n",
    "        max_num = m\n",
    "        \n",
    "    else:\n",
    "        break\n",
    "    \n",
    "print(max_num)"
   ]
  },
  {
   "cell_type": "code",
   "execution_count": null,
   "id": "02ee9414-e943-4aa2-b5bd-1860eb835255",
   "metadata": {},
   "outputs": [],
   "source": []
  }
 ],
 "metadata": {
  "kernelspec": {
   "display_name": "Python 3 (ipykernel)",
   "language": "python",
   "name": "python3"
  },
  "language_info": {
   "codemirror_mode": {
    "name": "ipython",
    "version": 3
   },
   "file_extension": ".py",
   "mimetype": "text/x-python",
   "name": "python",
   "nbconvert_exporter": "python",
   "pygments_lexer": "ipython3",
   "version": "3.8.13"
  }
 },
 "nbformat": 4,
 "nbformat_minor": 5
}
