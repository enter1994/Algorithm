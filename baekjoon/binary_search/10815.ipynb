{
 "cells": [
  {
   "cell_type": "code",
   "execution_count": 7,
   "id": "14a04c9c-90ad-4aa3-88dc-4c6d6fc8b237",
   "metadata": {},
   "outputs": [
    {
     "name": "stdin",
     "output_type": "stream",
     "text": [
      " 5\n",
      " 6 3 2 10 -10\n",
      " 8\n",
      " 10 9 -5 2 3 4 5 -10\n"
     ]
    },
    {
     "name": "stdout",
     "output_type": "stream",
     "text": [
      "1 0 0 1 1 0 0 1 "
     ]
    }
   ],
   "source": [
    "# 원래 이진탐색으로 풀어야되는데 set로 푸니까 풀림\n",
    "\n",
    "n = int(input())\n",
    "card = set(map(int, input().split()))\n",
    "m = int(input())\n",
    "target = list(map(int, input().split()))\n",
    "result = []\n",
    "\n",
    "for num in target:\n",
    "    if num in card:\n",
    "        result.append(1)\n",
    "        \n",
    "    else:\n",
    "        result.append(0)\n",
    "        \n",
    "for num in result:\n",
    "    print(num, end=' ')"
   ]
  },
  {
   "cell_type": "code",
   "execution_count": null,
   "id": "4f8194f0-b99e-4aa7-8e09-c9da71dc6cda",
   "metadata": {},
   "outputs": [],
   "source": []
  }
 ],
 "metadata": {
  "kernelspec": {
   "display_name": "Python 3 (ipykernel)",
   "language": "python",
   "name": "python3"
  },
  "language_info": {
   "codemirror_mode": {
    "name": "ipython",
    "version": 3
   },
   "file_extension": ".py",
   "mimetype": "text/x-python",
   "name": "python",
   "nbconvert_exporter": "python",
   "pygments_lexer": "ipython3",
   "version": "3.8.13"
  }
 },
 "nbformat": 4,
 "nbformat_minor": 5
}
