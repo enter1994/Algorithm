{
 "cells": [
  {
   "cell_type": "markdown",
   "id": "a7b16c14-6e0d-4fdf-acdc-853a9054fb0b",
   "metadata": {},
   "source": [
    "### 정수 제곱근"
   ]
  },
  {
   "cell_type": "code",
   "execution_count": 32,
   "id": "cb13114f-2e56-470e-9a95-d0dd440c8263",
   "metadata": {},
   "outputs": [
    {
     "name": "stdin",
     "output_type": "stream",
     "text": [
      " 100\n"
     ]
    },
    {
     "name": "stdout",
     "output_type": "stream",
     "text": [
      "10\n"
     ]
    }
   ],
   "source": [
    "n = int(input())\n",
    "start = 0\n",
    "end = n\n",
    "boolean = False\n",
    "\n",
    "while start < end:\n",
    "    mid = (start+end) // 2\n",
    "    \n",
    "    if mid ** 2 > n:\n",
    "        end = mid - 1\n",
    "        \n",
    "    elif mid ** 2 < n:\n",
    "        start = mid + 1\n",
    "\n",
    "    elif mid ** 2 == n:\n",
    "        boolean = True\n",
    "        break\n",
    "                \n",
    "if end**2 < n:\n",
    "    print(end+1)\n",
    "\n",
    "elif boolean == True:\n",
    "    print(mid)\n",
    "\n",
    "else:\n",
    "    print(end)"
   ]
  },
  {
   "cell_type": "code",
   "execution_count": null,
   "id": "4f7148f4-73aa-42d4-bf7e-96206681ad7d",
   "metadata": {},
   "outputs": [],
   "source": []
  }
 ],
 "metadata": {
  "kernelspec": {
   "display_name": "Python 3 (ipykernel)",
   "language": "python",
   "name": "python3"
  },
  "language_info": {
   "codemirror_mode": {
    "name": "ipython",
    "version": 3
   },
   "file_extension": ".py",
   "mimetype": "text/x-python",
   "name": "python",
   "nbconvert_exporter": "python",
   "pygments_lexer": "ipython3",
   "version": "3.8.13"
  }
 },
 "nbformat": 4,
 "nbformat_minor": 5
}
