{
 "cells": [
  {
   "cell_type": "code",
   "execution_count": null,
   "id": "1947cfa4-4b4d-4d58-8d49-71ec3a3e6633",
   "metadata": {},
   "outputs": [],
   "source": [
    "# 영화감동 숌\n",
    "\n",
    "n = int(input())\n",
    "num = 666\n",
    "\n",
    "while n != 0:\n",
    "    if '666' in str(num):\n",
    "        n -= 1\n",
    "        if n == 0:\n",
    "            break\n",
    "\n",
    "    num += 1\n",
    "        \n",
    "print(num)"
   ]
  },
  {
   "cell_type": "code",
   "execution_count": null,
   "id": "716db4cb-a871-4691-97cf-dfb56c3fc589",
   "metadata": {},
   "outputs": [],
   "source": [
    "# 랜선 자르기\n",
    "\n",
    "a, b = map(int, input().split())\n",
    "li = sorted(list(int(input()) for _ in range(a)))\n",
    "\n",
    "start, end = 1, li[-1]\n",
    "\n",
    "while start <= end:\n",
    "    mid = (start + end) // 2\n",
    "    num = 0\n",
    "    \n",
    "    for c in li:\n",
    "        num += (c // mid)\n",
    "                \n",
    "    if num < b:\n",
    "        end = mid - 1\n",
    "        \n",
    "    elif num >= b:\n",
    "        start = mid + 1\n",
    "        \n",
    "print(end)"
   ]
  },
  {
   "cell_type": "code",
   "execution_count": null,
   "id": "e1d573b7-7347-4a56-8a4d-0264895e4785",
   "metadata": {},
   "outputs": [],
   "source": [
    "### 수찾기\n",
    "\n",
    "m = int(input())\n",
    "a = list(map(int, input().split()))\n",
    "n = int(input())\n",
    "b = list(map(int, input().split()))\n",
    "\n",
    "a = sorted(a)\n",
    "\n",
    "def search(num):\n",
    "    start = 0\n",
    "    end = m - 1\n",
    "    find = False\n",
    "    \n",
    "    while start <= end:\n",
    "        mid = (start + end) // 2\n",
    "        \n",
    "        if a[mid] == num:\n",
    "            find = True\n",
    "            break\n",
    "            \n",
    "        if a[mid] > num:\n",
    "            end = mid - 1\n",
    "            \n",
    "        elif a[mid] < num:\n",
    "            start = mid + 1\n",
    "\n",
    "    return find\n",
    "            \n",
    "for i in b:\n",
    "    if search(i) == True:\n",
    "        print(1)\n",
    "        \n",
    "    elif search(i) == False:\n",
    "        print(0)"
   ]
  },
  {
   "cell_type": "code",
   "execution_count": 30,
   "id": "76fa4107-a3a1-48f3-b4a7-f4c41a8a8132",
   "metadata": {},
   "outputs": [
    {
     "name": "stdin",
     "output_type": "stream",
     "text": [
      " 1\n",
      " 1\n"
     ]
    },
    {
     "name": "stdout",
     "output_type": "stream",
     "text": [
      "+\n",
      "-\n"
     ]
    }
   ],
   "source": [
    "# 스택수열\n",
    "\n",
    "n = int(input())\n",
    "cnt = 1\n",
    "r = []\n",
    "result = []\n",
    "boolean = True\n",
    "\n",
    "for _ in range(n):\n",
    "    num = int(input())    \n",
    "    \n",
    "    while cnt <= num:\n",
    "        r.append(cnt)\n",
    "        result.append('+')\n",
    "        cnt+=1\n",
    "        \n",
    "    if r[-1] == num:\n",
    "        r.pop()\n",
    "        result.append('-')\n",
    "        \n",
    "    else:\n",
    "        boolean = False\n",
    "\n",
    "if boolean == True:\n",
    "    for i in result:\n",
    "        print(i)\n",
    "\n",
    "else:\n",
    "    print('NO')"
   ]
  },
  {
   "cell_type": "code",
   "execution_count": 49,
   "id": "d267e450-736b-4a28-92c7-235e643adf87",
   "metadata": {},
   "outputs": [
    {
     "name": "stdin",
     "output_type": "stream",
     "text": [
      " 3 16\n"
     ]
    },
    {
     "name": "stdout",
     "output_type": "stream",
     "text": [
      "3\n",
      "5\n",
      "7\n",
      "11\n",
      "13\n"
     ]
    }
   ],
   "source": [
    "# 소수구하기 -> 아라토스테네스의 체로 풀기\n",
    "a, b = map(int, input().split())\n",
    "boolean = [False, False] + [True] * (b-1)\n",
    "result = []\n",
    "\n",
    "for i in range(2, b+1):\n",
    "    if boolean[i] == True:\n",
    "        result.append(i)\n",
    "        for j in range(i, b+1, i):\n",
    "            boolean[j] = False\n",
    "            \n",
    "for num in result:\n",
    "    if num >= a:\n",
    "        print(num)"
   ]
  },
  {
   "cell_type": "code",
   "execution_count": 2,
   "id": "98ac530f-5f33-4934-a567-c858619eaa89",
   "metadata": {},
   "outputs": [
    {
     "name": "stdin",
     "output_type": "stream",
     "text": [
      " 1\n",
      " 4000\n"
     ]
    },
    {
     "name": "stdout",
     "output_type": "stream",
     "text": [
      "4000\n",
      "4000\n",
      "4000\n",
      "0\n"
     ]
    }
   ],
   "source": [
    "# 통계학\n",
    "# input이 안되서 sys 쓰는데 개빡친다\n",
    "\n",
    "import sys\n",
    "from collections import Counter\n",
    "\n",
    "m = int(input())\n",
    "li = list(int(input()) for _ in range(m))\n",
    "li = sorted(li)\n",
    "\n",
    "mean = round(sum(li) / m)\n",
    "median = li[m//2]\n",
    "\n",
    "freq = Counter(li).most_common()\n",
    "\n",
    "freq_num = freq[0][0]\n",
    "\n",
    "if len(freq) >= 2:\n",
    "    if freq[0][1] == freq[1][1]:\n",
    "        freq_num = freq[1][0]\n",
    "    \n",
    "ran = li[-1] - li[0]\n",
    "\n",
    "print(mean)\n",
    "print(median)\n",
    "print(freq_num)\n",
    "print(ran)"
   ]
  },
  {
   "cell_type": "code",
   "execution_count": 21,
   "id": "a64be77e-8acb-4464-b018-d43831d6854a",
   "metadata": {},
   "outputs": [
    {
     "name": "stdin",
     "output_type": "stream",
     "text": [
      " 6\n"
     ]
    },
    {
     "name": "stdout",
     "output_type": "stream",
     "text": [
      "4\n"
     ]
    }
   ],
   "source": [
    "# 카드2\n",
    "\n",
    "from collections import deque\n",
    "\n",
    "n = int(input())\n",
    "dq = deque(list(num for num in range(1, n+1)))\n",
    "\n",
    "\n",
    "while len(dq)>1:\n",
    "    dq.popleft()\n",
    "    dq.append(dq[0])\n",
    "    dq.popleft()\n",
    "\n",
    "    \n",
    "print(dq[0])"
   ]
  },
  {
   "cell_type": "code",
   "execution_count": 2,
   "id": "fb8385f5-e2e4-4387-9264-14ff652cc263",
   "metadata": {},
   "outputs": [
    {
     "name": "stdin",
     "output_type": "stream",
     "text": [
      " 2\n",
      " 1\n",
      " 3\n",
      " 2\n",
      " 3\n"
     ]
    },
    {
     "name": "stdout",
     "output_type": "stream",
     "text": [
      "6\n",
      "10\n"
     ]
    }
   ],
   "source": [
    "result = []\n",
    "\n",
    "for _ in range(int(input())):\n",
    "    k, n = int(input()), int(input())\n",
    "    li = list(i for i in range(1, n+1))\n",
    "    \n",
    "    for _ in range(k):\n",
    "        for j in range(1, n):\n",
    "            li[j] = li[j-1] + li[j]\n",
    "    \n",
    "    result.append(li[-1])\n",
    "    \n",
    "for num in result:\n",
    "    print(num)"
   ]
  },
  {
   "cell_type": "code",
   "execution_count": null,
   "id": "a4e3b3bb-56f3-4d1c-a8f5-d2fe1396f762",
   "metadata": {},
   "outputs": [],
   "source": []
  }
 ],
 "metadata": {
  "kernelspec": {
   "display_name": "Python 3 (ipykernel)",
   "language": "python",
   "name": "python3"
  },
  "language_info": {
   "codemirror_mode": {
    "name": "ipython",
    "version": 3
   },
   "file_extension": ".py",
   "mimetype": "text/x-python",
   "name": "python",
   "nbconvert_exporter": "python",
   "pygments_lexer": "ipython3",
   "version": "3.8.13"
  }
 },
 "nbformat": 4,
 "nbformat_minor": 5
}
