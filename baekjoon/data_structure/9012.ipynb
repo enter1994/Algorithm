{
 "cells": [
  {
   "cell_type": "markdown",
   "id": "b452523f-c8fa-447f-b24f-3eb83eda2651",
   "metadata": {},
   "source": [
    "### 괄호"
   ]
  },
  {
   "cell_type": "code",
   "execution_count": 39,
   "id": "96c8c3ce-e9cc-48eb-8afe-b8619e9e5eef",
   "metadata": {},
   "outputs": [
    {
     "name": "stdin",
     "output_type": "stream",
     "text": [
      " 3\n",
      " ((\n",
      " ))\n",
      " ())(()\n"
     ]
    },
    {
     "name": "stdout",
     "output_type": "stream",
     "text": [
      "NO\n",
      "NO\n",
      "NO\n"
     ]
    }
   ],
   "source": [
    "n = int(input())\n",
    "li = list(str(input()) for _ in range(n))\n",
    "\n",
    "for string in li:\n",
    "    result = 0\n",
    "    \n",
    "    for s in string:\n",
    "        if s == '(':\n",
    "            result += 1\n",
    "        elif s == ')':\n",
    "            result -= 1\n",
    "        if result < 0:\n",
    "            break\n",
    "            \n",
    "    if result == 0:\n",
    "        print('YES')\n",
    "    else:\n",
    "        print('NO')"
   ]
  },
  {
   "cell_type": "code",
   "execution_count": null,
   "id": "dc562977-7f3e-49af-8eb0-3f6469bb9729",
   "metadata": {},
   "outputs": [],
   "source": []
  },
  {
   "cell_type": "code",
   "execution_count": null,
   "id": "a0026203-16f4-4009-a742-fde9d85830e1",
   "metadata": {},
   "outputs": [],
   "source": []
  }
 ],
 "metadata": {
  "kernelspec": {
   "display_name": "Python 3 (ipykernel)",
   "language": "python",
   "name": "python3"
  },
  "language_info": {
   "codemirror_mode": {
    "name": "ipython",
    "version": 3
   },
   "file_extension": ".py",
   "mimetype": "text/x-python",
   "name": "python",
   "nbconvert_exporter": "python",
   "pygments_lexer": "ipython3",
   "version": "3.8.13"
  }
 },
 "nbformat": 4,
 "nbformat_minor": 5
}
