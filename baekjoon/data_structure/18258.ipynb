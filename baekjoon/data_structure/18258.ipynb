{
 "cells": [
  {
   "cell_type": "markdown",
   "id": "c3ca92e8-0916-4b30-8521-88cb428a7252",
   "metadata": {},
   "source": [
    "### 큐2"
   ]
  },
  {
   "cell_type": "code",
   "execution_count": 22,
   "id": "30540663-e1be-4c76-97df-b81f93587cf8",
   "metadata": {},
   "outputs": [
    {
     "name": "stdin",
     "output_type": "stream",
     "text": [
      " 12\n",
      " back\n",
      " back\n",
      " back\n",
      " push 100\n",
      " pop\n",
      " back\n",
      " pop\n",
      " pop\n",
      " back\n",
      " front\n",
      " size\n",
      " empty\n"
     ]
    },
    {
     "name": "stdout",
     "output_type": "stream",
     "text": [
      "-1\n",
      "-1\n",
      "-1\n",
      "100\n",
      "-1\n",
      "-1\n",
      "-1\n",
      "-1\n",
      "-1\n",
      "0\n",
      "1\n"
     ]
    }
   ],
   "source": [
    "from collections import deque\n",
    "\n",
    "n = int(input())\n",
    "li = list(str(input()) for _ in range(n))\n",
    "result = deque()\n",
    "\n",
    "for string in li:\n",
    "    string = string.split()\n",
    "    if string[0] == 'push':\n",
    "        num = string[1]\n",
    "        result.append(int(num))\n",
    "    \n",
    "    elif string[0] == 'front':\n",
    "        if len(result) != 0:\n",
    "            print(result[0])\n",
    "        else:\n",
    "            print(-1)\n",
    "        \n",
    "    elif string[0] == 'back':\n",
    "        if len(result) != 0:\n",
    "            print(result[-1])\n",
    "        else:\n",
    "            print(-1)\n",
    "    \n",
    "    elif string[0] == 'pop':\n",
    "        if len(result) != 0:\n",
    "            print(result.popleft())\n",
    "        \n",
    "        else:\n",
    "            print(-1)\n",
    "            \n",
    "    elif string[0] == 'size':\n",
    "        print(len(result))\n",
    "        \n",
    "    elif string[0] == 'empty':\n",
    "        if len(result) == 0:\n",
    "            print(1)\n",
    "            \n",
    "        else:\n",
    "            print(0)"
   ]
  },
  {
   "cell_type": "code",
   "execution_count": 9,
   "id": "4138fc14-d0ab-40ac-94c8-a5bcd9e2f156",
   "metadata": {},
   "outputs": [
    {
     "name": "stdout",
     "output_type": "stream",
     "text": [
      "1\n"
     ]
    }
   ],
   "source": [
    "# 아니 이거 이렇게해서 풀면 왜 안됨?????\n",
    "\n",
    "string = 'push 1'\n",
    "\n",
    "if 'push' in string:\n",
    "    num = string.split(' ')[1]\n",
    "    print(num)"
   ]
  },
  {
   "cell_type": "code",
   "execution_count": null,
   "id": "dcaa1546-21ef-492c-b07c-afdad046b567",
   "metadata": {},
   "outputs": [],
   "source": []
  }
 ],
 "metadata": {
  "kernelspec": {
   "display_name": "Python 3 (ipykernel)",
   "language": "python",
   "name": "python3"
  },
  "language_info": {
   "codemirror_mode": {
    "name": "ipython",
    "version": 3
   },
   "file_extension": ".py",
   "mimetype": "text/x-python",
   "name": "python",
   "nbconvert_exporter": "python",
   "pygments_lexer": "ipython3",
   "version": "3.8.13"
  }
 },
 "nbformat": 4,
 "nbformat_minor": 5
}
