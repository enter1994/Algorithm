{
 "cells": [
  {
   "cell_type": "markdown",
   "id": "a13c4643-02db-4d42-9858-2441e12fd42a",
   "metadata": {},
   "source": [
    "### 괄호의 값"
   ]
  },
  {
   "cell_type": "code",
   "execution_count": 20,
   "id": "e048f45b-c9ef-48f3-ba3f-d70b633bd5ca",
   "metadata": {},
   "outputs": [
    {
     "name": "stdin",
     "output_type": "stream",
     "text": [
      " (()[[]])([])\n"
     ]
    },
    {
     "name": "stdout",
     "output_type": "stream",
     "text": [
      "28\n"
     ]
    }
   ],
   "source": [
    "li = list(input())\n",
    "stack = []\n",
    "result = 0\n",
    "num = 1\n",
    "\n",
    "for i in range(len(li)):\n",
    "    if li[i] == '(':\n",
    "        stack.append(li[i])\n",
    "        num *= 2\n",
    "    \n",
    "    elif li[i] == '[':\n",
    "        stack.append(li[i])\n",
    "        num *= 3\n",
    "        \n",
    "    elif li[i] == ')':\n",
    "        if not stack or stack[-1] == '[':\n",
    "            result = 0\n",
    "            break\n",
    "            \n",
    "        if li[i-1] == '(':\n",
    "            result += num\n",
    "        stack.pop()\n",
    "        num = num // 2\n",
    "        \n",
    "    elif li[i] == ']':\n",
    "        if not stack or stack[-1] == '(':\n",
    "            result = 0\n",
    "            break\n",
    "        \n",
    "        if li[i-1] == '[':\n",
    "            result += num\n",
    "        stack.pop()\n",
    "        num = num // 3\n",
    "        \n",
    "if stack:\n",
    "    print(0)\n",
    "else:\n",
    "    print(result)"
   ]
  },
  {
   "cell_type": "code",
   "execution_count": null,
   "id": "06c3f310-f6a8-41be-b18f-a51f1b4c9e76",
   "metadata": {},
   "outputs": [],
   "source": []
  }
 ],
 "metadata": {
  "kernelspec": {
   "display_name": "Python 3 (ipykernel)",
   "language": "python",
   "name": "python3"
  },
  "language_info": {
   "codemirror_mode": {
    "name": "ipython",
    "version": 3
   },
   "file_extension": ".py",
   "mimetype": "text/x-python",
   "name": "python",
   "nbconvert_exporter": "python",
   "pygments_lexer": "ipython3",
   "version": "3.8.13"
  }
 },
 "nbformat": 4,
 "nbformat_minor": 5
}
