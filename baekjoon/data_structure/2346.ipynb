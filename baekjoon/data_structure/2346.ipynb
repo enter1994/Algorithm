{
 "cells": [
  {
   "cell_type": "markdown",
   "id": "0f4febaa-34ad-4b47-9b0f-6c0dd3bb75f7",
   "metadata": {},
   "source": [
    "### 풍선 터뜨리기"
   ]
  },
  {
   "cell_type": "code",
   "execution_count": 39,
   "id": "4fd4aae9-5598-44a8-8910-eff929f767b8",
   "metadata": {},
   "outputs": [
    {
     "name": "stdin",
     "output_type": "stream",
     "text": [
      " 5\n",
      " 3 2 1 -3 -1\n"
     ]
    },
    {
     "name": "stdout",
     "output_type": "stream",
     "text": [
      "1 4 5 3 2\n"
     ]
    }
   ],
   "source": [
    "from collections import deque\n",
    "\n",
    "n = int(input())\n",
    "bal = deque(enumerate(map(int, input().split())))\n",
    "result = []\n",
    "\n",
    "for _ in range(n):\n",
    "    i, idx = bal.popleft()\n",
    "    result.append(i+1)\n",
    "    \n",
    "    if idx > 0:\n",
    "        bal.rotate(-(idx-1))\n",
    "        \n",
    "    elif idx < 0:\n",
    "        bal.rotate(-idx)\n",
    "\n",
    "print(' '.join(map(str, result)))"
   ]
  },
  {
   "cell_type": "code",
   "execution_count": null,
   "id": "9909d445-d7c7-4017-9e3a-842d77353d6a",
   "metadata": {},
   "outputs": [],
   "source": []
  }
 ],
 "metadata": {
  "kernelspec": {
   "display_name": "Python 3 (ipykernel)",
   "language": "python",
   "name": "python3"
  },
  "language_info": {
   "codemirror_mode": {
    "name": "ipython",
    "version": 3
   },
   "file_extension": ".py",
   "mimetype": "text/x-python",
   "name": "python",
   "nbconvert_exporter": "python",
   "pygments_lexer": "ipython3",
   "version": "3.8.13"
  }
 },
 "nbformat": 4,
 "nbformat_minor": 5
}
