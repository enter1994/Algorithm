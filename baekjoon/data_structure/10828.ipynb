{
 "cells": [
  {
   "cell_type": "markdown",
   "id": "5a6dd0f1-1e46-47fb-9a47-22deb6759c41",
   "metadata": {},
   "source": [
    "### 스택"
   ]
  },
  {
   "cell_type": "code",
   "execution_count": 5,
   "id": "be29d988-0a68-4d64-b0f5-e3795f731011",
   "metadata": {},
   "outputs": [
    {
     "name": "stdin",
     "output_type": "stream",
     "text": [
      " 6\n",
      " push 7\n",
      " push 4\n",
      " push 7\n",
      " pop\n",
      " pop\n",
      " pop\n"
     ]
    },
    {
     "name": "stdout",
     "output_type": "stream",
     "text": [
      "7\n",
      "4\n",
      "7\n"
     ]
    }
   ],
   "source": [
    "n = int(input())\n",
    "li = list(str(input()) for _ in range(n))\n",
    "stack = []\n",
    "\n",
    "for line in li:\n",
    "    if 'push' in line:\n",
    "        num = int(line.split(' ')[1])\n",
    "        stack.append(num)\n",
    "        \n",
    "    elif 'top' == line:\n",
    "        if len(stack) != 0:\n",
    "            print(stack[-1])\n",
    "            \n",
    "        else:\n",
    "            print(-1)\n",
    "        \n",
    "    elif 'empty' == line:\n",
    "        if len(stack) == 0:\n",
    "            print(1)\n",
    "        else:\n",
    "            print(0)\n",
    "            \n",
    "    elif 'size' == line:\n",
    "        print(len(stack))\n",
    "        \n",
    "    elif 'pop' == line:\n",
    "        if len(stack) != 0:\n",
    "            print(stack.pop())\n",
    "        else:\n",
    "            print(-1)"
   ]
  },
  {
   "cell_type": "code",
   "execution_count": null,
   "id": "016dcba6-08f5-4121-876e-54b48635c839",
   "metadata": {},
   "outputs": [],
   "source": []
  },
  {
   "cell_type": "code",
   "execution_count": null,
   "id": "bb6110f8-4dff-42c6-b91a-b138e1e81621",
   "metadata": {},
   "outputs": [],
   "source": []
  }
 ],
 "metadata": {
  "kernelspec": {
   "display_name": "Python 3 (ipykernel)",
   "language": "python",
   "name": "python3"
  },
  "language_info": {
   "codemirror_mode": {
    "name": "ipython",
    "version": 3
   },
   "file_extension": ".py",
   "mimetype": "text/x-python",
   "name": "python",
   "nbconvert_exporter": "python",
   "pygments_lexer": "ipython3",
   "version": "3.8.13"
  }
 },
 "nbformat": 4,
 "nbformat_minor": 5
}
