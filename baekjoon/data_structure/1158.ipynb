{
 "cells": [
  {
   "cell_type": "markdown",
   "id": "42adaa97-495b-4941-99a7-295beca1733a",
   "metadata": {},
   "source": [
    "### 요세푸스 문제"
   ]
  },
  {
   "cell_type": "code",
   "execution_count": 15,
   "id": "b014606b-c466-49b2-805e-28facc144429",
   "metadata": {},
   "outputs": [
    {
     "name": "stdin",
     "output_type": "stream",
     "text": [
      " 7 3\n"
     ]
    },
    {
     "name": "stdout",
     "output_type": "stream",
     "text": [
      "<3, 6, 2, 7, 5, 1, 4>\n"
     ]
    }
   ],
   "source": [
    "l, k = map(int, input().split())\n",
    "li = list(i for i in range(1, l+1))\n",
    "result = []\n",
    "idx = 0\n",
    "\n",
    "for _ in range(l):\n",
    "    idx += (k-1)\n",
    "    idx = idx % len(li)\n",
    "    result.append(li.pop(idx))\n",
    "    \n",
    "print(str(result).replace('[', '<').replace(']', '>'))"
   ]
  },
  {
   "cell_type": "code",
   "execution_count": null,
   "id": "6f5c21aa-eb02-422f-b443-6f643089cdb4",
   "metadata": {},
   "outputs": [],
   "source": []
  }
 ],
 "metadata": {
  "kernelspec": {
   "display_name": "Python 3 (ipykernel)",
   "language": "python",
   "name": "python3"
  },
  "language_info": {
   "codemirror_mode": {
    "name": "ipython",
    "version": 3
   },
   "file_extension": ".py",
   "mimetype": "text/x-python",
   "name": "python",
   "nbconvert_exporter": "python",
   "pygments_lexer": "ipython3",
   "version": "3.8.13"
  }
 },
 "nbformat": 4,
 "nbformat_minor": 5
}
