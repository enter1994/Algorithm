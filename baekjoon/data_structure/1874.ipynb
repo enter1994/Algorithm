{
 "cells": [
  {
   "cell_type": "markdown",
   "id": "701aa47f-35a0-4288-9a3d-301448ccda96",
   "metadata": {
    "tags": []
   },
   "source": [
    "### 스택수열"
   ]
  },
  {
   "cell_type": "code",
   "execution_count": 22,
   "id": "d42ae9b8-5177-42bb-8a0f-c1935a31285a",
   "metadata": {},
   "outputs": [
    {
     "name": "stdin",
     "output_type": "stream",
     "text": [
      " 5\n",
      " 1\n",
      " 2\n",
      " 5\n",
      " 3\n"
     ]
    },
    {
     "name": "stdout",
     "output_type": "stream",
     "text": [
      "NO\n"
     ]
    }
   ],
   "source": [
    "from collections import deque\n",
    "\n",
    "m = int(input())\n",
    "result = deque()\n",
    "out = deque()\n",
    "n = 0\n",
    "boolean = True\n",
    "\n",
    "for _ in range(m):\n",
    "    num = int(input())\n",
    "    while n < num:\n",
    "        n += 1\n",
    "        result.append(n)\n",
    "        out.append('+')\n",
    "        \n",
    "    if result[-1] == num:\n",
    "        result.pop()\n",
    "        out.append('-')\n",
    "        \n",
    "    else:\n",
    "        print('NO')\n",
    "        boolean = False\n",
    "        break\n",
    "    \n",
    "\n",
    "if boolean == True:\n",
    "    for num in out:\n",
    "        print(num)"
   ]
  },
  {
   "cell_type": "code",
   "execution_count": null,
   "id": "c70b2967-3454-49c3-845c-c7d8d0cabe04",
   "metadata": {},
   "outputs": [],
   "source": []
  }
 ],
 "metadata": {
  "kernelspec": {
   "display_name": "Python 3 (ipykernel)",
   "language": "python",
   "name": "python3"
  },
  "language_info": {
   "codemirror_mode": {
    "name": "ipython",
    "version": 3
   },
   "file_extension": ".py",
   "mimetype": "text/x-python",
   "name": "python",
   "nbconvert_exporter": "python",
   "pygments_lexer": "ipython3",
   "version": "3.8.13"
  }
 },
 "nbformat": 4,
 "nbformat_minor": 5
}
