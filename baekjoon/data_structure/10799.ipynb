{
 "cells": [
  {
   "cell_type": "markdown",
   "id": "efdd7172-4267-44aa-9545-57e7d250f268",
   "metadata": {},
   "source": [
    "### 쇠막대기"
   ]
  },
  {
   "cell_type": "code",
   "execution_count": 4,
   "id": "d7754d54-4be8-4951-b6b0-6d4c4a4439ae",
   "metadata": {},
   "outputs": [
    {
     "name": "stdin",
     "output_type": "stream",
     "text": [
      " (((()(()()))(())()))(()())\n"
     ]
    },
    {
     "name": "stdout",
     "output_type": "stream",
     "text": [
      "24\n"
     ]
    }
   ],
   "source": [
    "li = list(input())\n",
    "result = 0\n",
    "stack = []\n",
    "\n",
    "for i in range(len(li)):\n",
    "    if li[i] == '(':\n",
    "        stack.append('(')\n",
    "        \n",
    "    elif li[i] == ')':\n",
    "        if li[i-1] == '(':\n",
    "            stack.pop()\n",
    "            result += len(stack)\n",
    "            \n",
    "        else:\n",
    "            stack.pop()\n",
    "            result += 1\n",
    "print(result)"
   ]
  },
  {
   "cell_type": "code",
   "execution_count": null,
   "id": "f3648ee8-c12a-4b90-a1c2-dbe75626f952",
   "metadata": {},
   "outputs": [],
   "source": []
  }
 ],
 "metadata": {
  "kernelspec": {
   "display_name": "Python 3 (ipykernel)",
   "language": "python",
   "name": "python3"
  },
  "language_info": {
   "codemirror_mode": {
    "name": "ipython",
    "version": 3
   },
   "file_extension": ".py",
   "mimetype": "text/x-python",
   "name": "python",
   "nbconvert_exporter": "python",
   "pygments_lexer": "ipython3",
   "version": "3.8.13"
  }
 },
 "nbformat": 4,
 "nbformat_minor": 5
}
