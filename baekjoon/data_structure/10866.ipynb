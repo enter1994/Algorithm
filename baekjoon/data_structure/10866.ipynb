{
 "cells": [
  {
   "cell_type": "markdown",
   "id": "7ad43c97-5e43-49aa-8bce-c2f910e5a64b",
   "metadata": {},
   "source": [
    "### 덱"
   ]
  },
  {
   "cell_type": "code",
   "execution_count": 12,
   "id": "3b93dcd5-60f9-48a8-8731-bf19ff29e0c7",
   "metadata": {},
   "outputs": [
    {
     "name": "stdin",
     "output_type": "stream",
     "text": [
      " 15\n",
      " push_back 1\n",
      " push_front 2\n",
      " front\n",
      " back\n",
      " size\n",
      " empty\n",
      " pop_front\n",
      " pop_back\n",
      " pop_front\n",
      " size\n",
      " empty\n",
      " pop_back\n",
      " push_front 3\n",
      " empty\n",
      " front\n"
     ]
    },
    {
     "name": "stdout",
     "output_type": "stream",
     "text": [
      "2\n",
      "1\n",
      "2\n",
      "0\n",
      "2\n",
      "1\n",
      "-1\n",
      "0\n",
      "1\n",
      "-1\n",
      "0\n",
      "3\n"
     ]
    }
   ],
   "source": [
    "from collections import deque\n",
    "\n",
    "n = int(input())\n",
    "li = deque()\n",
    "s = list(str(input()) for _ in range(n))\n",
    "\n",
    "for string in s:\n",
    "    string = string.split()\n",
    "    \n",
    "    if string[0] == 'push_front':\n",
    "        li.appendleft(int(string[1]))\n",
    "        \n",
    "    elif string[0] == 'push_back':\n",
    "        li.append(int(string[1]))\n",
    "        \n",
    "    elif string[0] == 'pop_front':\n",
    "        if li:\n",
    "            print(li[0])\n",
    "            li.popleft()\n",
    "        else:\n",
    "            print(-1)\n",
    "            \n",
    "    elif string[0] == 'pop_back':\n",
    "        if li:\n",
    "            print(li[-1])\n",
    "            li.pop()\n",
    "        else:\n",
    "            print(-1)\n",
    "            \n",
    "    elif string[0] == 'size':\n",
    "        print(len(li))\n",
    "        \n",
    "    elif string[0] == 'empty':\n",
    "        if li:\n",
    "            print(0)\n",
    "        else:\n",
    "            print(1)\n",
    "    \n",
    "    elif string[0] == 'front':\n",
    "        if li:\n",
    "            print(li[0])\n",
    "        else:\n",
    "            print(-1)\n",
    "    \n",
    "    elif string[0] == 'back':\n",
    "        if li:\n",
    "            print(li[-1])\n",
    "        else:\n",
    "            print(-1)"
   ]
  },
  {
   "cell_type": "code",
   "execution_count": 13,
   "id": "808cb66f-9f8b-4b52-9fa4-d1d44e578801",
   "metadata": {},
   "outputs": [
    {
     "data": {
      "text/plain": [
       "deque([3])"
      ]
     },
     "execution_count": 13,
     "metadata": {},
     "output_type": "execute_result"
    }
   ],
   "source": [
    "li"
   ]
  },
  {
   "cell_type": "code",
   "execution_count": 14,
   "id": "951a1c9b-8ad8-4259-9bbc-ffe6f9ef2168",
   "metadata": {},
   "outputs": [
    {
     "data": {
      "text/plain": [
       "['push_back 1',\n",
       " 'push_front 2',\n",
       " 'front',\n",
       " 'back',\n",
       " 'size',\n",
       " 'empty',\n",
       " 'pop_front',\n",
       " 'pop_back',\n",
       " 'pop_front',\n",
       " 'size',\n",
       " 'empty',\n",
       " 'pop_back',\n",
       " 'push_front 3',\n",
       " 'empty',\n",
       " 'front']"
      ]
     },
     "execution_count": 14,
     "metadata": {},
     "output_type": "execute_result"
    }
   ],
   "source": [
    "s"
   ]
  },
  {
   "cell_type": "code",
   "execution_count": null,
   "id": "9afe4a63-96f2-4a2f-968f-3585b7c3b792",
   "metadata": {},
   "outputs": [],
   "source": []
  }
 ],
 "metadata": {
  "kernelspec": {
   "display_name": "Python 3 (ipykernel)",
   "language": "python",
   "name": "python3"
  },
  "language_info": {
   "codemirror_mode": {
    "name": "ipython",
    "version": 3
   },
   "file_extension": ".py",
   "mimetype": "text/x-python",
   "name": "python",
   "nbconvert_exporter": "python",
   "pygments_lexer": "ipython3",
   "version": "3.8.13"
  }
 },
 "nbformat": 4,
 "nbformat_minor": 5
}
