{
 "cells": [
  {
   "cell_type": "markdown",
   "id": "01ce8c14-fab6-4225-8378-4e15b1d0bb9b",
   "metadata": {},
   "source": [
    "### 카드2"
   ]
  },
  {
   "cell_type": "code",
   "execution_count": 4,
   "id": "e8f1a927-3b03-42d8-9a90-c06f252f4d3d",
   "metadata": {},
   "outputs": [
    {
     "name": "stdin",
     "output_type": "stream",
     "text": [
      " 6\n"
     ]
    },
    {
     "name": "stdout",
     "output_type": "stream",
     "text": [
      "4\n"
     ]
    }
   ],
   "source": [
    "from collections import deque\n",
    "\n",
    "m = int(input())\n",
    "li = deque(i for i in range(1, m+1))\n",
    "\n",
    "for _ in range(m-1):\n",
    "    li.popleft()\n",
    "    li.append(li.popleft())\n",
    "\n",
    "print(li[0])"
   ]
  },
  {
   "cell_type": "code",
   "execution_count": null,
   "id": "f905e8bd-f285-40ba-977b-cc0bc7368bc5",
   "metadata": {},
   "outputs": [],
   "source": []
  }
 ],
 "metadata": {
  "kernelspec": {
   "display_name": "Python 3 (ipykernel)",
   "language": "python",
   "name": "python3"
  },
  "language_info": {
   "codemirror_mode": {
    "name": "ipython",
    "version": 3
   },
   "file_extension": ".py",
   "mimetype": "text/x-python",
   "name": "python",
   "nbconvert_exporter": "python",
   "pygments_lexer": "ipython3",
   "version": "3.8.13"
  }
 },
 "nbformat": 4,
 "nbformat_minor": 5
}
