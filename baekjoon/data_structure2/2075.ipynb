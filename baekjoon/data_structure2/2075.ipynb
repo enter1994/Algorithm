{
 "cells": [
  {
   "cell_type": "code",
   "execution_count": 10,
   "id": "48457f71-0bfb-4d29-88be-e5f807e2004e",
   "metadata": {},
   "outputs": [
    {
     "name": "stdin",
     "output_type": "stream",
     "text": [
      " 5\n",
      " 12 7 9 15 5\n",
      " 13 8 11 19 6\n",
      " 21 10 26 31 16\n",
      " 48 14 28 35 25\n",
      " 52 20 32 41 49\n"
     ]
    },
    {
     "data": {
      "text/plain": [
       "[35, 41, 48, 49, 52]"
      ]
     },
     "execution_count": 10,
     "metadata": {},
     "output_type": "execute_result"
    }
   ],
   "source": [
    "from heapq import heappush, heappop, nsmallest\n",
    "\n",
    "n = int(input())\n",
    "heap = []\n",
    "\n",
    "for _ in range(n):\n",
    "    nums = map(int, input().split())\n",
    "    \n",
    "    for num in nums:\n",
    "        if len(heap) < n:\n",
    "            heappush(heap, num)\n",
    "            \n",
    "        else:\n",
    "            if heap[0] < num:\n",
    "                heappop(heap)\n",
    "                heappush(heap, num)\n",
    "                \n",
    "print(heap[0])"
   ]
  },
  {
   "cell_type": "code",
   "execution_count": null,
   "id": "c4074824-c692-4571-ba02-d06064916b52",
   "metadata": {},
   "outputs": [],
   "source": []
  }
 ],
 "metadata": {
  "kernelspec": {
   "display_name": "Python 3 (ipykernel)",
   "language": "python",
   "name": "python3"
  },
  "language_info": {
   "codemirror_mode": {
    "name": "ipython",
    "version": 3
   },
   "file_extension": ".py",
   "mimetype": "text/x-python",
   "name": "python",
   "nbconvert_exporter": "python",
   "pygments_lexer": "ipython3",
   "version": "3.8.13"
  }
 },
 "nbformat": 4,
 "nbformat_minor": 5
}
