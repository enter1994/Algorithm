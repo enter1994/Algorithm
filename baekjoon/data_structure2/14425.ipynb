{
 "cells": [
  {
   "cell_type": "code",
   "execution_count": 6,
   "id": "36280579-b3da-47ce-8353-dc0fa0920340",
   "metadata": {},
   "outputs": [],
   "source": [
    "n = ['a', 'b', 'c']\n",
    "m = ['a', 'b', 'd', 'e']\n"
   ]
  },
  {
   "cell_type": "code",
   "execution_count": 5,
   "id": "612d1f0f-ebeb-40b0-8c8d-a439bd34ec7a",
   "metadata": {},
   "outputs": [
    {
     "name": "stdout",
     "output_type": "stream",
     "text": [
      "3\n"
     ]
    }
   ],
   "source": [
    "a, b = map(int, input().split())\n",
    "\n",
    "s = set()\n",
    "cnt = 0\n",
    "\n",
    "for i in range(n):\n",
    "    s.add(str(input()))\n",
    "\n",
    "for _ in range(m):\n",
    "    word = str(input())\n",
    "    if word in s:\n",
    "        cnt += 1\n",
    "\n",
    "print(cnt)"
   ]
  },
  {
   "cell_type": "code",
   "execution_count": null,
   "id": "25d5a4cf-4736-4fcd-9024-1dbf7bbc9d3b",
   "metadata": {},
   "outputs": [],
   "source": []
  }
 ],
 "metadata": {
  "kernelspec": {
   "display_name": "Python 3 (ipykernel)",
   "language": "python",
   "name": "python3"
  },
  "language_info": {
   "codemirror_mode": {
    "name": "ipython",
    "version": 3
   },
   "file_extension": ".py",
   "mimetype": "text/x-python",
   "name": "python",
   "nbconvert_exporter": "python",
   "pygments_lexer": "ipython3",
   "version": "3.8.13"
  }
 },
 "nbformat": 4,
 "nbformat_minor": 5
}
