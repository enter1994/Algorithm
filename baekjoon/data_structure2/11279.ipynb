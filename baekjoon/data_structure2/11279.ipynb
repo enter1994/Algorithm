{
 "cells": [
  {
   "cell_type": "code",
   "execution_count": 22,
   "id": "c4f1e191-c3b9-42ad-bb1d-2ae4de9f0795",
   "metadata": {},
   "outputs": [
    {
     "name": "stdin",
     "output_type": "stream",
     "text": [
      " 15\n",
      " 1\n",
      " 2\n",
      " 3\n",
      " 4\n",
      " 5\n",
      " 6\n",
      " 0\n"
     ]
    },
    {
     "name": "stdout",
     "output_type": "stream",
     "text": [
      "6\n"
     ]
    },
    {
     "name": "stdin",
     "output_type": "stream",
     "text": [
      " 0\n"
     ]
    },
    {
     "name": "stdout",
     "output_type": "stream",
     "text": [
      "5\n"
     ]
    },
    {
     "name": "stdin",
     "output_type": "stream",
     "text": [
      " 0\n"
     ]
    },
    {
     "name": "stdout",
     "output_type": "stream",
     "text": [
      "4\n"
     ]
    },
    {
     "name": "stdin",
     "output_type": "stream",
     "text": [
      " 0\n"
     ]
    },
    {
     "name": "stdout",
     "output_type": "stream",
     "text": [
      "3\n"
     ]
    },
    {
     "name": "stdin",
     "output_type": "stream",
     "text": [
      " 0\n"
     ]
    },
    {
     "name": "stdout",
     "output_type": "stream",
     "text": [
      "2\n"
     ]
    },
    {
     "name": "stdin",
     "output_type": "stream",
     "text": [
      " 0\n"
     ]
    },
    {
     "name": "stdout",
     "output_type": "stream",
     "text": [
      "1\n"
     ]
    },
    {
     "name": "stdin",
     "output_type": "stream",
     "text": [
      " 0\n"
     ]
    },
    {
     "name": "stdout",
     "output_type": "stream",
     "text": [
      "0\n"
     ]
    },
    {
     "name": "stdin",
     "output_type": "stream",
     "text": [
      " 0\n"
     ]
    },
    {
     "name": "stdout",
     "output_type": "stream",
     "text": [
      "0\n"
     ]
    },
    {
     "name": "stdin",
     "output_type": "stream",
     "text": [
      " \n"
     ]
    },
    {
     "ename": "ValueError",
     "evalue": "invalid literal for int() with base 10: ''",
     "output_type": "error",
     "traceback": [
      "\u001b[0;31m---------------------------------------------------------------------------\u001b[0m",
      "\u001b[0;31mValueError\u001b[0m                                Traceback (most recent call last)",
      "Input \u001b[0;32mIn [22]\u001b[0m, in \u001b[0;36m<cell line: 5>\u001b[0;34m()\u001b[0m\n\u001b[1;32m      3\u001b[0m heap\u001b[38;5;241m.\u001b[39mappend(\u001b[38;5;28;01mNone\u001b[39;00m)\n\u001b[1;32m      5\u001b[0m \u001b[38;5;28;01mfor\u001b[39;00m _ \u001b[38;5;129;01min\u001b[39;00m \u001b[38;5;28mrange\u001b[39m(n):\n\u001b[0;32m----> 6\u001b[0m     num \u001b[38;5;241m=\u001b[39m \u001b[38;5;28;43mint\u001b[39;49m\u001b[43m(\u001b[49m\u001b[38;5;28;43minput\u001b[39;49m\u001b[43m(\u001b[49m\u001b[43m)\u001b[49m\u001b[43m)\u001b[49m\n\u001b[1;32m      8\u001b[0m     \u001b[38;5;66;03m# push\u001b[39;00m\n\u001b[1;32m      9\u001b[0m     \u001b[38;5;28;01mif\u001b[39;00m num \u001b[38;5;241m!=\u001b[39m \u001b[38;5;241m0\u001b[39m:\n",
      "\u001b[0;31mValueError\u001b[0m: invalid literal for int() with base 10: ''"
     ]
    }
   ],
   "source": [
    "n = int(input())\n",
    "heap = []\n",
    "heap.append(None)\n",
    "\n",
    "for _ in range(n):\n",
    "    num = int(input())\n",
    "    \n",
    "    # push\n",
    "    if num != 0:\n",
    "        heap.append(num)\n",
    "        son = len(heap) - 1\n",
    "\n",
    "        while True:\n",
    "            if son > 1 and heap[son] > heap[son//2]:\n",
    "                heap[son], heap[son//2] = heap[son//2], heap[son]\n",
    "                son = son//2\n",
    "\n",
    "            else:\n",
    "                break\n",
    "    # pop\n",
    "    elif num == 0:\n",
    "        if len(heap) == 1:\n",
    "            print(0)\n",
    "            \n",
    "        else:\n",
    "            heap[1], heap[-1] = heap[-1], heap[1]\n",
    "            print(heap.pop())\n",
    "            \n",
    "            idx = 1\n",
    "            last_idx = len(heap) - 1\n",
    "            \n",
    "            while True:\n",
    "                son1 = idx*2\n",
    "                son2 = idx*2+1\n",
    "                target_idx = idx\n",
    "                \n",
    "                \n",
    "                # 왼쪽에만 있을때\n",
    "                if son1 <= last_idx and heap[target_idx] < heap[son1]:\n",
    "                    target_idx = son1\n",
    "                \n",
    "                # 양쪽다 있을때\n",
    "                if son2 <= last_idx and heap[target_idx] < heap[son2]:\n",
    "                    target_idx = son2\n",
    "                \n",
    "                if target_idx == idx:\n",
    "                    break\n",
    "                \n",
    "                heap[idx], heap[target_idx] = heap[target_idx], heap[idx]\n",
    "                idx = target_idx\n",
    "                "
   ]
  },
  {
   "cell_type": "code",
   "execution_count": null,
   "id": "88627702-f45a-42fa-bc66-e03472c5122a",
   "metadata": {},
   "outputs": [],
   "source": []
  }
 ],
 "metadata": {
  "kernelspec": {
   "display_name": "Python 3 (ipykernel)",
   "language": "python",
   "name": "python3"
  },
  "language_info": {
   "codemirror_mode": {
    "name": "ipython",
    "version": 3
   },
   "file_extension": ".py",
   "mimetype": "text/x-python",
   "name": "python",
   "nbconvert_exporter": "python",
   "pygments_lexer": "ipython3",
   "version": "3.8.13"
  }
 },
 "nbformat": 4,
 "nbformat_minor": 5
}
