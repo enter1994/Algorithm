{
 "cells": [
  {
   "cell_type": "code",
   "execution_count": 24,
   "id": "dc75de45-d3b3-4367-854c-4d168b263ecb",
   "metadata": {},
   "outputs": [
    {
     "name": "stdin",
     "output_type": "stream",
     "text": [
      " Ash\n",
      " Ash\n",
      " Ash\n",
      " Ash\n",
      " Basswood\n",
      " Basswood\n",
      " Basswood\n",
      " Cypress\n",
      " Cypress\n",
      " \n"
     ]
    },
    {
     "name": "stdout",
     "output_type": "stream",
     "text": [
      "Ash 44.4444\n",
      "Basswood 33.3333\n",
      "Cypress 22.2222\n"
     ]
    }
   ],
   "source": [
    "cnt = {}\n",
    "tree_sum = 0\n",
    "\n",
    "while True:\n",
    "    tree = input().rstrip()\n",
    "    if not tree:\n",
    "        break\n",
    "    \n",
    "    tree_sum += 1\n",
    "    \n",
    "    if tree in cnt:\n",
    "        cnt[tree] += 1\n",
    "        \n",
    "    else:\n",
    "        cnt[tree] = 1\n",
    "        \n",
    "for k, v in sorted(cnt.items()):\n",
    "    v = (v / tree_sum) * 100\n",
    "    print(f'{k} {v:.4f}')"
   ]
  },
  {
   "cell_type": "code",
   "execution_count": null,
   "id": "0cae1e95-66de-4131-9481-5a19df107f5e",
   "metadata": {},
   "outputs": [],
   "source": []
  }
 ],
 "metadata": {
  "kernelspec": {
   "display_name": "Python 3 (ipykernel)",
   "language": "python",
   "name": "python3"
  },
  "language_info": {
   "codemirror_mode": {
    "name": "ipython",
    "version": 3
   },
   "file_extension": ".py",
   "mimetype": "text/x-python",
   "name": "python",
   "nbconvert_exporter": "python",
   "pygments_lexer": "ipython3",
   "version": "3.8.13"
  }
 },
 "nbformat": 4,
 "nbformat_minor": 5
}
