{
 "cells": [
  {
   "cell_type": "code",
   "execution_count": 27,
   "id": "e6eaba42-4a2b-4951-a6f0-d2675ea11102",
   "metadata": {},
   "outputs": [
    {
     "name": "stdin",
     "output_type": "stream",
     "text": [
      " 3 3\n",
      " Bulbasaur\n",
      " Ivysaur\n",
      " Squirtle\n",
      " Squirtle\n",
      " 2\n",
      " Bulbasaur\n"
     ]
    },
    {
     "name": "stdout",
     "output_type": "stream",
     "text": [
      "3\n",
      "Ivysaur\n",
      "1\n"
     ]
    }
   ],
   "source": [
    "m, n = map(int, input().split())\n",
    "di = {}\n",
    "\n",
    "for i in range(1, m+1):\n",
    "    word = str(input()).rstrip()\n",
    "    di[i] = word\n",
    "    di[word] = i\n",
    "\n",
    "for _ in range(n):\n",
    "    \n",
    "    quest = input().rstrip()\n",
    "    \n",
    "    if quest.isdigit():\n",
    "        quest = int(quest)\n",
    "        print(di[quest])\n",
    "\n",
    "    else:\n",
    "        print(di[quest])\n",
    "        "
   ]
  },
  {
   "cell_type": "code",
   "execution_count": null,
   "id": "6073ee07-8241-4d20-b58e-262818daa394",
   "metadata": {},
   "outputs": [],
   "source": []
  }
 ],
 "metadata": {
  "kernelspec": {
   "display_name": "Python 3 (ipykernel)",
   "language": "python",
   "name": "python3"
  },
  "language_info": {
   "codemirror_mode": {
    "name": "ipython",
    "version": 3
   },
   "file_extension": ".py",
   "mimetype": "text/x-python",
   "name": "python",
   "nbconvert_exporter": "python",
   "pygments_lexer": "ipython3",
   "version": "3.8.13"
  }
 },
 "nbformat": 4,
 "nbformat_minor": 5
}
